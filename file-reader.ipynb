{
 "cells": [
  {
   "cell_type": "code",
   "execution_count": 11,
   "metadata": {
    "collapsed": true
   },
   "outputs": [],
   "source": [
    "import helpers\n",
    "import numpy as np\n",
    "import os\n",
    "import subprocess\n",
    "import sys"
   ]
  },
  {
   "cell_type": "code",
   "execution_count": 19,
   "metadata": {
    "collapsed": true
   },
   "outputs": [],
   "source": [
    "dpath = os.path.join(\"data\")"
   ]
  },
  {
   "cell_type": "code",
   "execution_count": 20,
   "metadata": {
    "collapsed": true
   },
   "outputs": [],
   "source": [
    "t_mac = subprocess.run(\n",
    "    [\n",
    "        'ls',\n",
    "        '-1',\n",
    "        dpath,\n",
    "    ],\n",
    "    stdout=subprocess.PIPE,\n",
    "    universal_newlines=True,\n",
    ")"
   ]
  },
  {
   "cell_type": "code",
   "execution_count": 21,
   "metadata": {
    "collapsed": true
   },
   "outputs": [],
   "source": [
    "flist = (\n",
    "    os.path.join(dpath, f) for f in str(t_mac.stdout).split(\"\\n\") if f != ''\n",
    ")"
   ]
  },
  {
   "cell_type": "code",
   "execution_count": 23,
   "metadata": {
    "collapsed": true
   },
   "outputs": [],
   "source": [
    "def generate_filenames():\n",
    "    from functools import filter\n",
    "    dpath = os.path.join('data')\n",
    "    t_mac = subprocess.run(\n",
    "        ['ls', '-1', dpath],\n",
    "        stdout=subprocess.PIPE,\n",
    "        universal_newlines=True,\n",
    "    )\n",
    "#     flist = filter(t_)\n",
    "    return (\n",
    "        os.path.join(dpath, f) for f in str(t_mac.stdout).split(\"\\n\") if f != ''\n",
    "    )"
   ]
  },
  {
   "cell_type": "code",
   "execution_count": 26,
   "metadata": {},
   "outputs": [
    {
     "data": {
      "text/plain": [
       "['data/gimme_an_f_000.txt',\n",
       " 'data/gimme_an_f_001.txt',\n",
       " 'data/gimme_an_f_002.txt',\n",
       " 'data/gimme_an_f_003.txt']"
      ]
     },
     "execution_count": 26,
     "metadata": {},
     "output_type": "execute_result"
    }
   ],
   "source": [
    "from itertools import islice\n",
    "list(islice(generate_filenames(), 4))"
   ]
  },
  {
   "cell_type": "code",
   "execution_count": null,
   "metadata": {
    "collapsed": true
   },
   "outputs": [],
   "source": []
  }
 ],
 "metadata": {
  "kernelspec": {
   "display_name": "Python 3",
   "language": "python",
   "name": "python3"
  },
  "language_info": {
   "codemirror_mode": {
    "name": "ipython",
    "version": 3
   },
   "file_extension": ".py",
   "mimetype": "text/x-python",
   "name": "python",
   "nbconvert_exporter": "python",
   "pygments_lexer": "ipython3",
   "version": "3.5.3"
  }
 },
 "nbformat": 4,
 "nbformat_minor": 2
}
