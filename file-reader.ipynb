{
 "cells": [
  {
   "cell_type": "code",
   "execution_count": 2,
   "metadata": {
    "collapsed": true
   },
   "outputs": [],
   "source": [
    "import helpers\n",
    "import numpy as np\n",
    "import os\n",
    "# import subprocess\n",
    "import sys"
   ]
  },
  {
   "cell_type": "code",
   "execution_count": 3,
   "metadata": {},
   "outputs": [],
   "source": [
    "DPATH = os.path.join(\"data\")"
   ]
  },
  {
   "cell_type": "code",
   "execution_count": 5,
   "metadata": {
    "collapsed": true
   },
   "outputs": [],
   "source": [
    "# Nice and fancy but overkill\n",
    "\n",
    "# t_mac = subprocess.run(\n",
    "#     [\n",
    "#         'ls',\n",
    "#         '-1',\n",
    "#         dpath,\n",
    "#     ],\n",
    "#     stdout=subprocess.PIPE,\n",
    "#     universal_newlines=True,\n",
    "# )\n",
    "\n",
    "# flist = (\n",
    "#     os.path.join(dpath, f) for f in str(t_mac.stdout).split(\"\\n\") if f != ''\n",
    "# )\n",
    "\n",
    "# def generate_filenames():\n",
    "#     from functools import filter\n",
    "#     dpath = os.path.join('data')\n",
    "#     t_mac = subprocess.run(\n",
    "#         ['ls', '-1', dpath],\n",
    "#         stdout=subprocess.PIPE,\n",
    "#         universal_newlines=True,\n",
    "#     )\n",
    "# #     flist = filter(t_)\n",
    "#     return (\n",
    "#         os.path.join(dpath, f) for f in str(t_mac.stdout).split(\"\\n\") if f != ''\n",
    "#     )"
   ]
  },
  {
   "cell_type": "code",
   "execution_count": 14,
   "metadata": {},
   "outputs": [],
   "source": [
    "flist = (\n",
    "    os.path.join(DPATH, fname) for fname in os.listdir(DPATH)\n",
    ")"
   ]
  },
  {
   "cell_type": "code",
   "execution_count": 16,
   "metadata": {},
   "outputs": [
    {
     "data": {
      "text/plain": [
       "['data/gimme_an_f_089.txt',\n",
       " 'data/gimme_an_f_098.txt',\n",
       " 'data/gimme_an_f_006.txt',\n",
       " 'data/gimme_an_f_009.txt']"
      ]
     },
     "execution_count": 16,
     "metadata": {},
     "output_type": "execute_result"
    }
   ],
   "source": [
    "from itertools import islice\n",
    "list(islice(flist, 4))\n",
    "# flist[:4]"
   ]
  },
  {
   "cell_type": "code",
   "execution_count": 63,
   "metadata": {
    "collapsed": true
   },
   "outputs": [],
   "source": [
    "def read_nth_number(fpath):\n",
    "    with open(fpath) as f:\n",
    "        n = int(f.readline())\n",
    "    return n"
   ]
  },
  {
   "cell_type": "code",
   "execution_count": 64,
   "metadata": {},
   "outputs": [
    {
     "data": {
      "text/plain": [
       "100002"
      ]
     },
     "execution_count": 64,
     "metadata": {},
     "output_type": "execute_result"
    }
   ],
   "source": [
    "read_nth_number(next(flist))"
   ]
  },
  {
   "cell_type": "code",
   "execution_count": 76,
   "metadata": {
    "collapsed": true
   },
   "outputs": [],
   "source": [
    "from helpers import n_fibonacci, calc_lengths, print_stuff"
   ]
  },
  {
   "cell_type": "code",
   "execution_count": 97,
   "metadata": {},
   "outputs": [
    {
     "name": "stdout",
     "output_type": "stream",
     "text": [
      "41799\n",
      "41799\n",
      "41798\n",
      "41798\n",
      "41798\n",
      "41798\n",
      "41799\n",
      "41799\n",
      "41798\n",
      "41800\n",
      "41799\n",
      "41799\n",
      "41799\n",
      "41800\n",
      "41799\n",
      "41798\n",
      "41800\n",
      "41798\n",
      "41799\n",
      "41799\n",
      "41799\n",
      "41799\n",
      "41799\n",
      "41798\n",
      "41799\n",
      "41800\n",
      "41799\n",
      "41799\n",
      "41800\n",
      "41799\n",
      "41799\n",
      "41798\n",
      "CPU times: user 14.3 s, sys: 12 ms, total: 14.3 s\n",
      "Wall time: 14.3 s\n"
     ]
    }
   ],
   "source": [
    "%%time\n",
    "flist = (\n",
    "    os.path.join(DPATH, fname) for fname in os.listdir(DPATH)\n",
    ")\n",
    "nth_numbers = map(read_nth_number, flist)\n",
    "nth_numbers = islice(nth_numbers, 32)\n",
    "\n",
    "results = map(n_fibonacci, nth_numbers)\n",
    "print_stuff(calc_lengths(results))"
   ]
  },
  {
   "cell_type": "code",
   "execution_count": 86,
   "metadata": {},
   "outputs": [],
   "source": [
    "from concurrent.futures import ProcessPoolExecutor, ThreadPoolExecutor, as_completed"
   ]
  },
  {
   "cell_type": "code",
   "execution_count": 1,
   "metadata": {},
   "outputs": [
    {
     "ename": "NameError",
     "evalue": "name 'os' is not defined",
     "output_type": "error",
     "traceback": [
      "\u001b[0;31m---------------------------------------------------------------------------\u001b[0m",
      "\u001b[0;31mNameError\u001b[0m                                 Traceback (most recent call last)",
      "\u001b[0;32m<timed exec>\u001b[0m in \u001b[0;36m<module>\u001b[0;34m()\u001b[0m\n",
      "\u001b[0;31mNameError\u001b[0m: name 'os' is not defined"
     ]
    }
   ],
   "source": [
    "%%time\n",
    "flist = (\n",
    "    os.path.join(DPATH, fname) for fname in os.listdir(DPATH)\n",
    ")\n",
    "nth_numbers = map(read_nth_number, flist)\n",
    "nth_numbers = islice(nth_numbers, 32)\n",
    "with ProcessPoolExecutor() as pp:\n",
    "    results = pp.map(n_fibonacci, nth_numbers)\n",
    "    print_stuff(calc_lengths(results))"
   ]
  },
  {
   "cell_type": "code",
   "execution_count": 96,
   "metadata": {},
   "outputs": [
    {
     "name": "stdout",
     "output_type": "stream",
     "text": [
      "41799\n",
      "41798\n",
      "41798\n",
      "41799\n",
      "41798\n",
      "41799\n",
      "41799\n",
      "41798\n",
      "41800\n",
      "41799\n",
      "41798\n",
      "41799\n",
      "41799\n",
      "41800\n",
      "41799\n",
      "41798\n",
      "41800\n",
      "41798\n",
      "41799\n",
      "41799\n",
      "41799\n",
      "41799\n",
      "41799\n",
      "41798\n",
      "41799\n",
      "41800\n",
      "41799\n",
      "41799\n",
      "41799\n",
      "41800\n",
      "41798\n",
      "41799\n",
      "CPU times: user 752 ms, sys: 12 ms, total: 764 ms\n",
      "Wall time: 4.11 s\n"
     ]
    }
   ],
   "source": [
    "%%time\n",
    "flist = (\n",
    "    os.path.join(DPATH, fname) for fname in os.listdir(DPATH)\n",
    ")\n",
    "nth_numbers = map(read_nth_number, flist)\n",
    "nth_numbers = islice(nth_numbers, 32)\n",
    "with ProcessPoolExecutor() as pp:\n",
    "    futures = [\n",
    "        pp.submit(n_fibonacci, nth_num) for nth_num in nth_numbers\n",
    "    ]\n",
    "    print_stuff(\n",
    "        calc_lengths(\n",
    "            f.result() for f in as_completed(futures)\n",
    "        )\n",
    "    )"
   ]
  },
  {
   "cell_type": "code",
   "execution_count": null,
   "metadata": {
    "collapsed": true
   },
   "outputs": [],
   "source": []
  }
 ],
 "metadata": {
  "kernelspec": {
   "display_name": "Python 3",
   "language": "python",
   "name": "python3"
  },
  "language_info": {
   "codemirror_mode": {
    "name": "ipython",
    "version": 3
   },
   "file_extension": ".py",
   "mimetype": "text/x-python",
   "name": "python",
   "nbconvert_exporter": "python",
   "pygments_lexer": "ipython3",
   "version": "3.6.2"
  }
 },
 "nbformat": 4,
 "nbformat_minor": 2
}
