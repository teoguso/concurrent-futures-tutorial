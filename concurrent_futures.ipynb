{
 "cells": [
  {
   "cell_type": "markdown",
   "metadata": {},
   "source": [
    "# Playing with concurrency"
   ]
  },
  {
   "cell_type": "code",
   "execution_count": 29,
   "metadata": {},
   "outputs": [],
   "source": [
    "import concurrent.futures\n",
    "import matplotlib.pyplot as plt\n",
    "import numpy as np\n",
    "import time\n",
    "from concurrent.futures import ProcessPoolExecutor, ThreadPoolExecutor\n",
    "%matplotlib inline"
   ]
  },
  {
   "cell_type": "markdown",
   "metadata": {},
   "source": [
    "Let's write some functions that do work."
   ]
  },
  {
   "cell_type": "code",
   "execution_count": 102,
   "metadata": {
    "collapsed": true
   },
   "outputs": [],
   "source": [
    "def n_fibonacci(n=10):\n",
    "    \"\"\"Calculate the Nth Fibonacci number\"\"\"\n",
    "    i = 0\n",
    "    x = 1\n",
    "#     print(x)\n",
    "    for __ in range(n):\n",
    "        x, i = x + i, x\n",
    "#         print(x)\n",
    "    return x\n",
    "\n",
    "def fake_write(whatevs=None):\n",
    "    \"\"\"Take some time as if it were writing to disk\"\"\"\n",
    "#     long_time = np.random.randint(1,5)\n",
    "    long_time = np.random.random()\n",
    "    time.sleep(long_time)\n",
    "    return whatevs"
   ]
  },
  {
   "cell_type": "code",
   "execution_count": 31,
   "metadata": {},
   "outputs": [
    {
     "data": {
      "text/plain": [
       "89"
      ]
     },
     "execution_count": 31,
     "metadata": {},
     "output_type": "execute_result"
    }
   ],
   "source": [
    "n_fibonacci()"
   ]
  },
  {
   "cell_type": "markdown",
   "metadata": {},
   "source": [
    "Let's create an array (list) of integers to act as input for our functions"
   ]
  },
  {
   "cell_type": "code",
   "execution_count": 92,
   "metadata": {},
   "outputs": [
    {
     "data": {
      "text/plain": [
       "array([251751, 242286,  76217,  49458, 379159, 338953, 296870, 148251,\n",
       "       228062, 243364, 324457,  79559, 326327,  29819, 321357, 261954,\n",
       "       300343, 316548, 174892,  77046, 270499,  35642, 195284,  78945,\n",
       "       252897, 217306, 171520, 308306,  46651, 327820,  53522, 333764,\n",
       "       306389, 254000, 123751, 273276, 315117, 121687, 130857, 193591,\n",
       "       179324, 331520, 207157,  89921, 135144, 151541, 320873, 353883,\n",
       "        69192, 310130])"
      ]
     },
     "execution_count": 92,
     "metadata": {},
     "output_type": "execute_result"
    }
   ],
   "source": [
    "randints = np.random.randint(20000, 400000, 50)\n",
    "randints"
   ]
  },
  {
   "cell_type": "markdown",
   "metadata": {},
   "source": [
    "Let's now take this numbers as inputs for our function, and then \"write\" the results somewhere (e.g. disk/cloud storage)"
   ]
  },
  {
   "cell_type": "code",
   "execution_count": 101,
   "metadata": {},
   "outputs": [
    {
     "name": "stdout",
     "output_type": "stream",
     "text": [
      "CPU times: user 37.5 s, sys: 4 ms, total: 37.5 s\n",
      "Wall time: 1min\n"
     ]
    }
   ],
   "source": [
    "%%time\n",
    "results = [\n",
    "    n_fibonacci(n) for n in randints\n",
    "]\n",
    "for __ in results:\n",
    "    fake_write()"
   ]
  },
  {
   "cell_type": "markdown",
   "metadata": {},
   "source": [
    "This is definitely too long... how can one improve it?"
   ]
  },
  {
   "cell_type": "markdown",
   "metadata": {},
   "source": [
    "### Quick code analysis\n",
    "\n",
    "This piece of code has two main parts (does it look familiar):\n",
    "\n",
    "1. A computing part.\n",
    "2. An I/O part.\n",
    "\n",
    "Let's take a look at each one separately."
   ]
  },
  {
   "cell_type": "code",
   "execution_count": null,
   "metadata": {
    "collapsed": true
   },
   "outputs": [],
   "source": []
  },
  {
   "cell_type": "markdown",
   "metadata": {},
   "source": [
    "### Multiprocessing"
   ]
  },
  {
   "cell_type": "code",
   "execution_count": 103,
   "metadata": {
    "collapsed": true
   },
   "outputs": [],
   "source": [
    "with ProcessPoolExecutor() as p_executor:\n",
    "    results = p_executor.map(n_fibonacci, randints)\n",
    "#         results = executor.map(fake_write, results)\n",
    "#         print(list(results)[:3])"
   ]
  },
  {
   "cell_type": "markdown",
   "metadata": {},
   "source": [
    "### Using map"
   ]
  },
  {
   "cell_type": "code",
   "execution_count": 94,
   "metadata": {
    "collapsed": true
   },
   "outputs": [],
   "source": []
  },
  {
   "cell_type": "code",
   "execution_count": 97,
   "metadata": {},
   "outputs": [
    {
     "name": "stdout",
     "output_type": "stream",
     "text": [
      "[None, None, None]\n",
      "CPU times: user 60 ms, sys: 24 ms, total: 84 ms\n",
      "Wall time: 24.3 s\n"
     ]
    }
   ],
   "source": [
    "%%time\n",
    "with ProcessPoolExecutor() as p_executor:\n",
    "    with ThreadPoolExecutor() as executor:\n",
    "        results = p_executor.map(n_fibonacci, randints)\n",
    "        results = executor.map(fake_write, results)\n",
    "        print(list(results)[:3])"
   ]
  },
  {
   "cell_type": "markdown",
   "metadata": {},
   "source": [
    "### Using submit"
   ]
  },
  {
   "cell_type": "code",
   "execution_count": 99,
   "metadata": {},
   "outputs": [
    {
     "name": "stdout",
     "output_type": "stream",
     "text": [
      "CPU times: user 60 ms, sys: 28 ms, total: 88 ms\n",
      "Wall time: 28.7 s\n"
     ]
    }
   ],
   "source": [
    "%%time\n",
    "with ProcessPoolExecutor() as p_executor:\n",
    "    with ThreadPoolExecutor() as executor:\n",
    "        futures = [\n",
    "            p_executor.submit(n_fibonacci, randn) for randn in randints\n",
    "        ]\n",
    "        t_futures = [\n",
    "            executor.submit(\n",
    "                fake_write,\n",
    "                future.result()\n",
    "            ) for future in concurrent.futures.as_completed(futures)\n",
    "        ]\n",
    "        concurrent.futures.wait(t_futures)"
   ]
  },
  {
   "cell_type": "markdown",
   "metadata": {},
   "source": [
    "## Improvements\n",
    "\n",
    "### Chunksize"
   ]
  },
  {
   "cell_type": "code",
   "execution_count": 59,
   "metadata": {},
   "outputs": [
    {
     "name": "stdout",
     "output_type": "stream",
     "text": [
      "CPU times: user 44 ms, sys: 24 ms, total: 68 ms\n",
      "Wall time: 24.1 s\n"
     ]
    }
   ],
   "source": [
    "%%time\n",
    "with ProcessPoolExecutor() as p_executor:\n",
    "    with ThreadPoolExecutor() as executor:\n",
    "        results = p_executor.map(n_fibonacci, randints, chunksize=32)\n",
    "        executor.map(fake_write, results)"
   ]
  },
  {
   "cell_type": "code",
   "execution_count": null,
   "metadata": {
    "collapsed": true
   },
   "outputs": [],
   "source": []
  }
 ],
 "metadata": {
  "kernelspec": {
   "display_name": "Python 3",
   "language": "python",
   "name": "python3"
  },
  "language_info": {
   "codemirror_mode": {
    "name": "ipython",
    "version": 3
   },
   "file_extension": ".py",
   "mimetype": "text/x-python",
   "name": "python",
   "nbconvert_exporter": "python",
   "pygments_lexer": "ipython3",
   "version": "3.6.2"
  }
 },
 "nbformat": 4,
 "nbformat_minor": 2
}
