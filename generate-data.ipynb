{
 "cells": [
  {
   "cell_type": "code",
   "execution_count": 1,
   "metadata": {
    "collapsed": true
   },
   "outputs": [],
   "source": [
    "import numpy as np\n",
    "from os.path import join as pjoin"
   ]
  },
  {
   "cell_type": "code",
   "execution_count": 2,
   "metadata": {},
   "outputs": [
    {
     "data": {
      "text/plain": [
       "array([200006, 200006, 200003, 200001, 200006, 200002, 200001, 200005,\n",
       "       200004, 200001, 200009, 200005, 200002, 200007, 200008, 200006,\n",
       "       200008, 200003, 200001, 200001, 200007, 200002, 200007, 200006,\n",
       "       200005, 200006, 200004, 200006, 200008, 200006, 200005, 200003,\n",
       "       200006, 200005, 200001, 200006, 200009, 200001, 200002, 200007,\n",
       "       200008, 200005, 200007, 200005, 200006, 200008, 200008, 200002,\n",
       "       200006, 200006, 200009, 200005, 200005, 200001, 200001, 200005,\n",
       "       200006, 200004, 200001, 200008, 200002, 200003, 200006, 200002,\n",
       "       200004, 200005, 200008, 200003, 200001, 200007, 200008, 200009,\n",
       "       200005, 200009, 200001, 200001, 200002, 200007, 200002, 200002,\n",
       "       200004, 200007, 200005, 200008, 200007, 200004, 200007, 200004,\n",
       "       200005, 200006, 200007, 200002, 200004, 200008, 200009, 200008,\n",
       "       200007, 200002, 200004, 200001, 200007, 200002, 200007, 200002,\n",
       "       200007, 200003, 200006, 200009, 200002, 200005, 200001, 200009,\n",
       "       200007, 200006, 200007, 200005, 200006, 200001, 200001, 200001,\n",
       "       200006, 200002, 200007, 200006, 200003, 200006, 200002, 200008])"
      ]
     },
     "execution_count": 2,
     "metadata": {},
     "output_type": "execute_result"
    }
   ],
   "source": [
    "n_min, n_max, n_ints = 1, 10, 128\n",
    "randints = 200000 + np.random.randint(n_min, n_max, n_ints)\n",
    "randints"
   ]
  },
  {
   "cell_type": "code",
   "execution_count": 3,
   "metadata": {
    "collapsed": true
   },
   "outputs": [],
   "source": [
    "for i, number in enumerate(randints):\n",
    "    with open(pjoin(\"data\", \"gimme_an_f_{:03}.txt\".format(i)), 'w') as f:\n",
    "        f.write(str(number))"
   ]
  },
  {
   "cell_type": "code",
   "execution_count": 4,
   "metadata": {},
   "outputs": [
    {
     "name": "stdout",
     "output_type": "stream",
     "text": [
      "gimme_an_f_000.txt  gimme_an_f_032.txt\tgimme_an_f_064.txt  gimme_an_f_096.txt\r\n",
      "gimme_an_f_001.txt  gimme_an_f_033.txt\tgimme_an_f_065.txt  gimme_an_f_097.txt\r\n",
      "gimme_an_f_002.txt  gimme_an_f_034.txt\tgimme_an_f_066.txt  gimme_an_f_098.txt\r\n",
      "gimme_an_f_003.txt  gimme_an_f_035.txt\tgimme_an_f_067.txt  gimme_an_f_099.txt\r\n",
      "gimme_an_f_004.txt  gimme_an_f_036.txt\tgimme_an_f_068.txt  gimme_an_f_100.txt\r\n",
      "gimme_an_f_005.txt  gimme_an_f_037.txt\tgimme_an_f_069.txt  gimme_an_f_101.txt\r\n",
      "gimme_an_f_006.txt  gimme_an_f_038.txt\tgimme_an_f_070.txt  gimme_an_f_102.txt\r\n",
      "gimme_an_f_007.txt  gimme_an_f_039.txt\tgimme_an_f_071.txt  gimme_an_f_103.txt\r\n",
      "gimme_an_f_008.txt  gimme_an_f_040.txt\tgimme_an_f_072.txt  gimme_an_f_104.txt\r\n",
      "gimme_an_f_009.txt  gimme_an_f_041.txt\tgimme_an_f_073.txt  gimme_an_f_105.txt\r\n",
      "gimme_an_f_010.txt  gimme_an_f_042.txt\tgimme_an_f_074.txt  gimme_an_f_106.txt\r\n",
      "gimme_an_f_011.txt  gimme_an_f_043.txt\tgimme_an_f_075.txt  gimme_an_f_107.txt\r\n",
      "gimme_an_f_012.txt  gimme_an_f_044.txt\tgimme_an_f_076.txt  gimme_an_f_108.txt\r\n",
      "gimme_an_f_013.txt  gimme_an_f_045.txt\tgimme_an_f_077.txt  gimme_an_f_109.txt\r\n",
      "gimme_an_f_014.txt  gimme_an_f_046.txt\tgimme_an_f_078.txt  gimme_an_f_110.txt\r\n",
      "gimme_an_f_015.txt  gimme_an_f_047.txt\tgimme_an_f_079.txt  gimme_an_f_111.txt\r\n",
      "gimme_an_f_016.txt  gimme_an_f_048.txt\tgimme_an_f_080.txt  gimme_an_f_112.txt\r\n",
      "gimme_an_f_017.txt  gimme_an_f_049.txt\tgimme_an_f_081.txt  gimme_an_f_113.txt\r\n",
      "gimme_an_f_018.txt  gimme_an_f_050.txt\tgimme_an_f_082.txt  gimme_an_f_114.txt\r\n",
      "gimme_an_f_019.txt  gimme_an_f_051.txt\tgimme_an_f_083.txt  gimme_an_f_115.txt\r\n",
      "gimme_an_f_020.txt  gimme_an_f_052.txt\tgimme_an_f_084.txt  gimme_an_f_116.txt\r\n",
      "gimme_an_f_021.txt  gimme_an_f_053.txt\tgimme_an_f_085.txt  gimme_an_f_117.txt\r\n",
      "gimme_an_f_022.txt  gimme_an_f_054.txt\tgimme_an_f_086.txt  gimme_an_f_118.txt\r\n",
      "gimme_an_f_023.txt  gimme_an_f_055.txt\tgimme_an_f_087.txt  gimme_an_f_119.txt\r\n",
      "gimme_an_f_024.txt  gimme_an_f_056.txt\tgimme_an_f_088.txt  gimme_an_f_120.txt\r\n",
      "gimme_an_f_025.txt  gimme_an_f_057.txt\tgimme_an_f_089.txt  gimme_an_f_121.txt\r\n",
      "gimme_an_f_026.txt  gimme_an_f_058.txt\tgimme_an_f_090.txt  gimme_an_f_122.txt\r\n",
      "gimme_an_f_027.txt  gimme_an_f_059.txt\tgimme_an_f_091.txt  gimme_an_f_123.txt\r\n",
      "gimme_an_f_028.txt  gimme_an_f_060.txt\tgimme_an_f_092.txt  gimme_an_f_124.txt\r\n",
      "gimme_an_f_029.txt  gimme_an_f_061.txt\tgimme_an_f_093.txt  gimme_an_f_125.txt\r\n",
      "gimme_an_f_030.txt  gimme_an_f_062.txt\tgimme_an_f_094.txt  gimme_an_f_126.txt\r\n",
      "gimme_an_f_031.txt  gimme_an_f_063.txt\tgimme_an_f_095.txt  gimme_an_f_127.txt\r\n"
     ]
    }
   ],
   "source": [
    "!ls data/"
   ]
  },
  {
   "cell_type": "code",
   "execution_count": null,
   "metadata": {
    "collapsed": true
   },
   "outputs": [],
   "source": []
  }
 ],
 "metadata": {
  "kernelspec": {
   "display_name": "Python 3",
   "language": "python",
   "name": "python3"
  },
  "language_info": {
   "codemirror_mode": {
    "name": "ipython",
    "version": 3
   },
   "file_extension": ".py",
   "mimetype": "text/x-python",
   "name": "python",
   "nbconvert_exporter": "python",
   "pygments_lexer": "ipython3",
   "version": "3.6.2"
  }
 },
 "nbformat": 4,
 "nbformat_minor": 2
}
