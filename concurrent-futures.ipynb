{
 "cells": [
  {
   "cell_type": "markdown",
   "metadata": {},
   "source": [
    "# Playing with concurrency\n",
    "## A short story about `concurrent.futures`"
   ]
  },
  {
   "cell_type": "code",
   "execution_count": 1,
   "metadata": {
    "collapsed": true
   },
   "outputs": [],
   "source": [
    "import concurrent.futures\n",
    "import matplotlib.pyplot as plt\n",
    "import numpy as np\n",
    "import time\n",
    "from concurrent.futures import ProcessPoolExecutor, ThreadPoolExecutor\n",
    "%matplotlib inline"
   ]
  },
  {
   "cell_type": "markdown",
   "metadata": {},
   "source": [
    "Let's write some functions that do stuff (a more IRL-based use case later on)."
   ]
  },
  {
   "cell_type": "code",
   "execution_count": 111,
   "metadata": {},
   "outputs": [],
   "source": [
    "def n_fibonacci(n=10):\n",
    "    \"\"\"Calculate the Nth Fibonacci number\"\"\"\n",
    "    i = 0\n",
    "    x = 1\n",
    "#     print(x)\n",
    "    for __ in range(n):\n",
    "        x, i = x + i, x\n",
    "#         print(x)\n",
    "    return x\n",
    "\n",
    "def fake_write(whatevs=None):\n",
    "    \"\"\"Take some time as if it were writing to disk/calling a rest API\"\"\"\n",
    "#     long_time = np.random.randint(1,5)\n",
    "    long_time = 1. + np.random.random()\n",
    "    time.sleep(long_time)\n",
    "    return \"Done with {} after {} secs\".format(whatevs, long_time)\n",
    "\n",
    "def calc_length(x):\n",
    "    \"\"\"Typically x is an int\"\"\"\n",
    "    return len(str(x))\n",
    "\n",
    "def calc_lengths(iterable_object):\n",
    "    \"\"\"Generate lenghts of values from generator.\n",
    "    \n",
    "    Works for any iterable.\n",
    "    \"\"\"\n",
    "    for x in iterable_object:\n",
    "        yield calc_length(x)\n",
    "\n",
    "def print_stuff(generator_object):\n",
    "    \"\"\"Print values as they are generated\"\"\"\n",
    "    for x in generator_object:\n",
    "        print(x)"
   ]
  },
  {
   "cell_type": "code",
   "execution_count": 61,
   "metadata": {},
   "outputs": [
    {
     "name": "stdout",
     "output_type": "stream",
     "text": [
      "CPU times: user 3.28 s, sys: 0 ns, total: 3.28 s\n",
      "Wall time: 3.28 s\n"
     ]
    },
    {
     "data": {
      "text/plain": [
       "104494"
      ]
     },
     "execution_count": 61,
     "metadata": {},
     "output_type": "execute_result"
    }
   ],
   "source": [
    "%time x = n_fibonacci(500000)\n",
    "len(str(x))"
   ]
  },
  {
   "cell_type": "markdown",
   "metadata": {},
   "source": [
    "Let's create an array of integers to act as input for our functions:"
   ]
  },
  {
   "cell_type": "code",
   "execution_count": 30,
   "metadata": {},
   "outputs": [
    {
     "data": {
      "text/plain": [
       "array([500008, 500003, 500002, 500001, 500005, 500006, 500002, 500007])"
      ]
     },
     "execution_count": 30,
     "metadata": {},
     "output_type": "execute_result"
    }
   ],
   "source": [
    "randints = 500000 + np.random.randint(1, 10, 8)\n",
    "randints"
   ]
  },
  {
   "cell_type": "markdown",
   "metadata": {},
   "source": [
    "How long does it take to process the whole array?"
   ]
  },
  {
   "cell_type": "code",
   "execution_count": 68,
   "metadata": {},
   "outputs": [
    {
     "name": "stdout",
     "output_type": "stream",
     "text": [
      "104496\n",
      "104495\n",
      "104495\n",
      "104494\n",
      "104495\n",
      "104495\n",
      "104495\n",
      "104496\n",
      "CPU times: user 26.9 s, sys: 8 ms, total: 26.9 s\n",
      "Wall time: 26.9 s\n"
     ]
    }
   ],
   "source": [
    "%%time\n",
    "results = (\n",
    "    n_fibonacci(n) for n in randints\n",
    ")\n",
    "print_stuff(calc_lengths(results))"
   ]
  },
  {
   "cell_type": "code",
   "execution_count": 71,
   "metadata": {},
   "outputs": [
    {
     "name": "stdout",
     "output_type": "stream",
     "text": [
      "104496\n",
      "104495\n",
      "104495\n",
      "104494\n",
      "104495\n",
      "104495\n",
      "104495\n",
      "104496\n",
      "CPU times: user 27.1 s, sys: 8 ms, total: 27.1 s\n",
      "Wall time: 27.1 s\n"
     ]
    }
   ],
   "source": [
    "%%time\n",
    "results = map(\n",
    "    n_fibonacci, randints\n",
    ")\n",
    "print_stuff(calc_lengths(results))"
   ]
  },
  {
   "cell_type": "markdown",
   "metadata": {},
   "source": [
    "This is definitely too long... how can one improve it?"
   ]
  },
  {
   "cell_type": "markdown",
   "metadata": {},
   "source": [
    "### Multiprocessing through `concurrent.futures`"
   ]
  },
  {
   "cell_type": "code",
   "execution_count": 81,
   "metadata": {},
   "outputs": [
    {
     "name": "stdout",
     "output_type": "stream",
     "text": [
      "104496\n",
      "104495\n",
      "104495\n",
      "104494\n",
      "104495\n",
      "104495\n",
      "104495\n",
      "104496\n",
      "CPU times: user 1.48 s, sys: 32 ms, total: 1.52 s\n",
      "Wall time: 13.6 s\n"
     ]
    }
   ],
   "source": [
    "%%time\n",
    "with ProcessPoolExecutor() as p_executor:\n",
    "    results = p_executor.map(n_fibonacci, randints)\n",
    "#     printout = p_executor.map(calc_length, results)\n",
    "#     print(list(printout))\n",
    "    print_stuff(calc_lengths(results))"
   ]
  },
  {
   "cell_type": "markdown",
   "metadata": {},
   "source": [
    "This is better, but shouldn't it be `n_procs` better?  \n",
    "Let's take a deeper look:"
   ]
  },
  {
   "cell_type": "code",
   "execution_count": 70,
   "metadata": {},
   "outputs": [
    {
     "name": "stdout",
     "output_type": "stream",
     "text": [
      "104496\n",
      "104495\n",
      "104495\n",
      "104494\n",
      "104495\n",
      "104495\n",
      "104495\n",
      "104496\n",
      "Pool setup time: 0.001384735107421875 secs\n",
      "Computation time: 13.761390924453735 secs\n",
      "Teardown time: 0.00434112548828125 secs\n"
     ]
    }
   ],
   "source": [
    "start = time.time()\n",
    "with ProcessPoolExecutor() as p_executor:\n",
    "    checkpoint_a = time.time()\n",
    "    results = p_executor.map(n_fibonacci, randints, chunksize=2)\n",
    "    print_stuff(calc_lengths(results))\n",
    "    checkpoint_b = time.time()\n",
    "end = time.time()\n",
    "print(\"Pool setup time: {} secs\".format(checkpoint_a - start))\n",
    "print(\"Computation time: {} secs\".format(checkpoint_b - checkpoint_a))\n",
    "print(\"Teardown time: {} secs\".format(end - checkpoint_b))"
   ]
  },
  {
   "cell_type": "markdown",
   "metadata": {},
   "source": [
    "There is minimal overhead for setting up the pool of processes (about 1 ms).  \n",
    "Most overhead is due to communication between processes (i.e. sending around data).\n",
    "\n",
    "One can analyse how this evolves with the length of the single task."
   ]
  },
  {
   "cell_type": "code",
   "execution_count": 198,
   "metadata": {},
   "outputs": [
    {
     "name": "stdout",
     "output_type": "stream",
     "text": [
      "1\n",
      "2\n",
      "3\n",
      "4\n",
      "5\n",
      "[(1, 1.2469956874847412, 0.8144452571868896), (2, 4.454180955886841, 2.829066276550293), (3, 10.362726211547852, 4.764616966247559), (4, 16.899455070495605, 8.826596021652222), (5, 34.47688412666321, 20.414557695388794)]\n"
     ]
    }
   ],
   "source": [
    "plot_data = []\n",
    "with ProcessPoolExecutor() as p_executor:\n",
    "    for i in range(1, 6):\n",
    "        print(i)\n",
    "        randints = i * 50000 + np.random.randint(1, 10, 32)\n",
    "        start = time.time()\n",
    "        results = (\n",
    "            n_fibonacci(n) for n in randints\n",
    "        )\n",
    "#         print_stuff(calc_lengths(results))\n",
    "        [__ for __ in results]\n",
    "        seq_time = time.time() - start\n",
    "        start = time.time()\n",
    "        results = p_executor.map(n_fibonacci, randints)\n",
    "        [__ for __ in results]\n",
    "        plot_data.append((i, seq_time, time.time() - start))\n",
    "print(plot_data)\n",
    "# plt.plot(*plot_data);"
   ]
  },
  {
   "cell_type": "code",
   "execution_count": 196,
   "metadata": {},
   "outputs": [
    {
     "name": "stdout",
     "output_type": "stream",
     "text": [
      "1\n",
      "2\n",
      "3\n",
      "4\n",
      "5\n"
     ]
    }
   ],
   "source": [
    "two_procs_data = []\n",
    "with ProcessPoolExecutor(2) as p_executor:\n",
    "    for i in range(1, 6):\n",
    "        print(i)\n",
    "        randints = i * 50000 + np.random.randint(1, 10, 32)\n",
    "        start = time.time()\n",
    "        results = p_executor.map(n_fibonacci, randints, chunksize=16)\n",
    "        [__ for __ in results]\n",
    "        two_procs_data.append((i, time.time() - start))"
   ]
  },
  {
   "cell_type": "code",
   "execution_count": 199,
   "metadata": {},
   "outputs": [
    {
     "data": {
      "image/png": "[encoded data removed]",
      "text/plain": [
       "<matplotlib.figure.Figure at 0x7f1b9115bfd0>"
      ]
     },
     "metadata": {},
     "output_type": "display_data"
    }
   ],
   "source": [
    "plt.figure(figsize=(12, 4))\n",
    "x = [x[0] for x in plot_data]\n",
    "y_seq = [x[1] for x in plot_data]\n",
    "y_para = [x[2] for x in plot_data]\n",
    "y_ratio = [x[1]/x[2] for x in plot_data]\n",
    "y_para_two = [x[1] for x in two_procs_data]\n",
    "y_ratio_two = [x[0][1]/x[1][-1] for x in zip(plot_data, two_procs_data)]\n",
    "plt.subplot(1, 2, 1)\n",
    "plt.xlabel(\"Job size\")\n",
    "plt.ylabel(\"Duration [secs]\")\n",
    "plt.plot(x, y_seq, '-o', label=\"sequential\")\n",
    "plt.plot(x, y_para, '-o', label=\"max procs\")\n",
    "plt.plot(x, y_para_two, '-o', label=\"2 procs\")\n",
    "# plt.yscale('log')\n",
    "plt.legend()\n",
    "plt.grid();\n",
    "plt.subplot(1, 2, 2)\n",
    "plt.xlabel(\"Job size\")\n",
    "plt.ylabel(\"Improvement ratio\")\n",
    "plt.plot(x, np.ones(len(x)), label=\"sequential\")\n",
    "plt.plot(x, y_ratio, '-o', label=\"max procs\")\n",
    "plt.plot(x, y_ratio_two, '-o', label=\"2 procs\")\n",
    "plt.ylim((0,4))\n",
    "plt.legend()\n",
    "plt.grid();"
   ]
  },
  {
   "cell_type": "code",
   "execution_count": 200,
   "metadata": {},
   "outputs": [
    {
     "data": {
      "text/plain": [
       "[1.6685544039351539,\n",
       " 1.5972164668085926,\n",
       " 1.2684957314910479,\n",
       " 1.1523228763366664,\n",
       " 1.4735822384582045]"
      ]
     },
     "execution_count": 200,
     "metadata": {},
     "output_type": "execute_result"
    }
   ],
   "source": [
    "y_ratio_two"
   ]
  },
  {
   "cell_type": "markdown",
   "metadata": {},
   "source": [
    "### Now what?\n",
    "\n",
    "We have calculated important stuff, and we want to store it/send it somewhere safe.\n",
    "\n",
    "Let's say we save it to disk for now.\n",
    "How long is that going to take?"
   ]
  },
  {
   "cell_type": "code",
   "execution_count": 201,
   "metadata": {
    "collapsed": true
   },
   "outputs": [],
   "source": [
    "randints = 3 * 100000 + np.random.randint(1, 10, 32)"
   ]
  },
  {
   "cell_type": "code",
   "execution_count": 202,
   "metadata": {},
   "outputs": [
    {
     "name": "stdout",
     "output_type": "stream",
     "text": [
      "CPU times: user 44 ms, sys: 44 ms, total: 88 ms\n",
      "Wall time: 23.5 s\n"
     ]
    }
   ],
   "source": [
    "%%time\n",
    "with ProcessPoolExecutor() as p_exec:\n",
    "    results = p_exec.map(n_fibonacci, randints)\n",
    "    myres = list(results)"
   ]
  },
  {
   "cell_type": "code",
   "execution_count": 203,
   "metadata": {},
   "outputs": [
    {
     "name": "stdout",
     "output_type": "stream",
     "text": [
      "CPU times: user 3.19 s, sys: 4 ms, total: 3.2 s\n",
      "Wall time: 49.8 s\n"
     ]
    }
   ],
   "source": [
    "%%time\n",
    "for r in myres:\n",
    "    fake_write(r)"
   ]
  },
  {
   "cell_type": "code",
   "execution_count": 204,
   "metadata": {},
   "outputs": [
    {
     "name": "stdout",
     "output_type": "stream",
     "text": [
      "62738\n",
      "62738\n",
      "62738\n",
      "62738\n",
      "62738\n",
      "62738\n",
      "62737\n",
      "62737\n",
      "62738\n",
      "62737\n",
      "62738\n",
      "62737\n",
      "62738\n",
      "62738\n",
      "62737\n",
      "62739\n",
      "62737\n",
      "62737\n",
      "62738\n",
      "62738\n",
      "62737\n",
      "62737\n",
      "62736\n",
      "62737\n",
      "62738\n",
      "62737\n",
      "62737\n",
      "62737\n",
      "62738\n",
      "62738\n",
      "62738\n",
      "62738\n",
      "CPU times: user 56 ms, sys: 52 ms, total: 108 ms\n",
      "Wall time: 12.4 s\n"
     ]
    }
   ],
   "source": [
    "%%time\n",
    "with ProcessPoolExecutor() as p:\n",
    "    results = p.map(fake_write, myres)\n",
    "    print_stuff(calc_lengths(results))"
   ]
  },
  {
   "cell_type": "code",
   "execution_count": 205,
   "metadata": {},
   "outputs": [
    {
     "name": "stdout",
     "output_type": "stream",
     "text": [
      "62738\n",
      "62738\n",
      "62738\n",
      "62738\n",
      "62738\n",
      "62737\n",
      "62737\n",
      "62737\n",
      "62737\n",
      "62737\n",
      "62738\n",
      "62737\n",
      "62738\n",
      "62738\n",
      "62737\n",
      "62739\n",
      "62736\n",
      "62737\n",
      "62738\n",
      "62738\n",
      "62738\n",
      "62738\n",
      "62737\n",
      "62738\n",
      "62738\n",
      "62736\n",
      "62736\n",
      "62737\n",
      "62738\n",
      "62738\n",
      "62738\n",
      "62737\n",
      "CPU times: user 2.33 s, sys: 28 ms, total: 2.36 s\n",
      "Wall time: 4.23 s\n"
     ]
    }
   ],
   "source": [
    "%%time\n",
    "with ThreadPoolExecutor() as p:\n",
    "    results = p.map(fake_write, myres)\n",
    "    print_stuff(calc_lengths(results))"
   ]
  },
  {
   "cell_type": "markdown",
   "metadata": {},
   "source": [
    "How does it actually scale?"
   ]
  },
  {
   "cell_type": "code",
   "execution_count": 206,
   "metadata": {},
   "outputs": [
    {
     "name": "stdout",
     "output_type": "stream",
     "text": [
      "1\n",
      "2\n",
      "3\n",
      "4\n",
      "5\n"
     ]
    }
   ],
   "source": [
    "data = []\n",
    "for i in range(1, 6):\n",
    "    print(i)\n",
    "    n_exec = i*5\n",
    "    with ThreadPoolExecutor(n_exec) as p:\n",
    "        start = time.time()\n",
    "        results = p.map(fake_write, myres)\n",
    "        list(calc_lengths(results))\n",
    "        data.append((n_exec, time.time() - start))"
   ]
  },
  {
   "cell_type": "code",
   "execution_count": 240,
   "metadata": {},
   "outputs": [
    {
     "data": {
      "image/png": "[encoded data removed]",
      "text/plain": [
       "<matplotlib.figure.Figure at 0x7f1b91051cc0>"
      ]
     },
     "metadata": {},
     "output_type": "display_data"
    }
   ],
   "source": [
    "x = [x[0] for x in data]\n",
    "y = [50/x[1] for x in data]\n",
    "plt.plot(x, y, '-o')\n",
    "plt.ylim((0,12))\n",
    "plt.xticks(x)\n",
    "plt.xlabel(\"Number of threads\")\n",
    "plt.ylabel(\"Speed improvement ratio\")\n",
    "# plt.arrow(20, 6, 0, 3)\n",
    "plt.annotate(\"max_workers\\ndefault value\\n(5*nprocs)\", xy=(20, 10), xytext=(19,6), arrowprops=dict(arrowstyle=\"->\"))\n",
    "plt.grid();"
   ]
  },
  {
   "cell_type": "markdown",
   "metadata": {},
   "source": [
    "### Combining everything together\n",
    "Can we use these tools to optimize all parts of a program?"
   ]
  },
  {
   "cell_type": "code",
   "execution_count": 239,
   "metadata": {},
   "outputs": [
    {
     "name": "stdout",
     "output_type": "stream",
     "text": [
      "Done with 62698 after 1.8452377977607 secs\n",
      "Done with 62697 after 1.6004247781622287 secs\n",
      "Done with 62697 after 1.203338716751865 secs\n",
      "Done with 62699 after 1.8320660043625843 secs\n",
      "Done with 62698 after 1.541215860755574 secs\n",
      "Done with 62698 after 1.4487164685602867 secs\n",
      "Done with 62697 after 1.1292529012244903 secs\n",
      "Done with 62697 after 1.0192214898392111 secs\n",
      "Done with 62697 after 1.866542201382015 secs\n",
      "Done with 62698 after 1.6618804741297568 secs\n",
      "Done with 62698 after 1.8996933546168333 secs\n",
      "Done with 62699 after 1.9702075183281091 secs\n",
      "Done with 62698 after 1.1879410037802896 secs\n",
      "Done with 62697 after 1.6444882109009045 secs\n",
      "Done with 62697 after 1.9633717302751834 secs\n",
      "Done with 62698 after 1.8655745657537375 secs\n",
      "Done with 62698 after 1.1315758358365882 secs\n",
      "Done with 62698 after 1.3001334300359186 secs\n",
      "Done with 62698 after 1.3468844638252766 secs\n",
      "Done with 62697 after 1.6397316229913952 secs\n",
      "Done with 62698 after 1.611739761182685 secs\n",
      "Done with 62697 after 1.9841667425718934 secs\n",
      "Done with 62697 after 1.760545861209047 secs\n",
      "Done with 62697 after 1.6223515414961454 secs\n",
      "Done with 62697 after 1.5183586053580407 secs\n",
      "Done with 62697 after 1.770574818004532 secs\n",
      "Done with 62697 after 1.8844820525640174 secs\n",
      "Done with 62697 after 1.7393496584965267 secs\n",
      "Done with 62698 after 1.396039218780048 secs\n",
      "Done with 62697 after 1.939714760129818 secs\n",
      "Done with 62698 after 1.5595144608544103 secs\n",
      "Done with 62697 after 1.6384752740822681 secs\n",
      "CPU times: user 116 ms, sys: 44 ms, total: 160 ms\n",
      "Wall time: 31.4 s\n"
     ]
    }
   ],
   "source": [
    "%%time\n",
    "randints = 3 * 100000 + np.random.randint(1, 10, 32)\n",
    "with ProcessPoolExecutor() as pp:\n",
    "    with ThreadPoolExecutor() as tp:\n",
    "        cpu_results = pp.map(n_fibonacci, randints)\n",
    "        cpu_results = pp.map(calc_length, cpu_results)\n",
    "        th_results = tp.map(fake_write, cpu_results)\n",
    "        print_stuff(th_results)"
   ]
  },
  {
   "cell_type": "code",
   "execution_count": 242,
   "metadata": {},
   "outputs": [
    {
     "name": "stdout",
     "output_type": "stream",
     "text": [
      "Done with 62697 after 1.036890392462696 secs\n",
      "Done with 62697 after 1.154880673407481 secs\n",
      "Done with 62698 after 1.120797452488131 secs\n",
      "Done with 62697 after 1.4297922044590643 secs\n",
      "Done with 62699 after 1.6007876548554716 secs\n",
      "Done with 62697 after 1.596233916904156 secs\n",
      "Done with 62697 after 1.6777425859323443 secs\n",
      "Done with 62698 after 1.4201978820832304 secs\n",
      "Done with 62698 after 1.4847861741549266 secs\n",
      "Done with 62698 after 1.8312847920892972 secs\n",
      "Done with 62698 after 1.7061179740433472 secs\n",
      "Done with 62698 after 1.5232140669155514 secs\n",
      "Done with 62697 after 1.6861718799963124 secs\n",
      "Done with 62697 after 1.8764649649340386 secs\n",
      "Done with 62698 after 1.8458969674697707 secs\n",
      "Done with 62698 after 1.8544265022668798 secs\n",
      "Done with 62698 after 1.7617868712702787 secs\n",
      "Done with 62697 after 1.8992451477036085 secs\n",
      "Done with 62697 after 1.7954095081054957 secs\n",
      "Done with 62698 after 1.9688913392691483 secs\n",
      "Done with 62697 after 1.4481571477575699 secs\n",
      "Done with 62698 after 1.5342124096430592 secs\n",
      "Done with 62698 after 1.3584269352854983 secs\n",
      "Done with 62697 after 1.137066204986751 secs\n",
      "Done with 62697 after 1.2346243121374239 secs\n",
      "Done with 62699 after 1.4691661482032745 secs\n",
      "Done with 62697 after 1.3171825159726516 secs\n",
      "Done with 62697 after 1.4397378816415027 secs\n",
      "Done with 62698 after 1.5048236738139438 secs\n",
      "Done with 62698 after 1.6516409389004818 secs\n",
      "Done with 62697 after 1.7683122753940086 secs\n",
      "Done with 62697 after 1.8351432268993948 secs\n",
      "CPU times: user 88 ms, sys: 44 ms, total: 132 ms\n",
      "Wall time: 27.2 s\n"
     ]
    }
   ],
   "source": [
    "%%time\n",
    "randints = 3 * 100000 + np.random.randint(1, 10, 32)\n",
    "with ProcessPoolExecutor() as pp:\n",
    "    with ThreadPoolExecutor() as tp:\n",
    "        cpu_results = pp.map(n_fibonacci, randints)\n",
    "        p_futures = []\n",
    "        t_futures = []\n",
    "        for res in cpu_results:\n",
    "            p_futures.append(\n",
    "                pp.submit(calc_length, res)\n",
    "            )\n",
    "        for f in concurrent.futures.as_completed(p_futures):\n",
    "            t_futures.append(\n",
    "                tp.submit(fake_write, f.result())\n",
    "            )\n",
    "#         for res in cpu_results:\n",
    "#             mylen = calc_length(res)\n",
    "#             tp.submit(fake_write, mylen)\n",
    "        for f in concurrent.futures.as_completed(t_futures):\n",
    "            print(f.result())"
   ]
  },
  {
   "cell_type": "markdown",
   "metadata": {},
   "source": [
    "### Quick code analysis\n",
    "\n",
    "This piece of code has two main parts (does it look familiar?):\n",
    "\n",
    "1. A computing part.\n",
    "2. An I/O part.\n",
    "\n",
    "Let's take a look at each one separately."
   ]
  },
  {
   "cell_type": "code",
   "execution_count": null,
   "metadata": {
    "collapsed": true
   },
   "outputs": [],
   "source": []
  },
  {
   "cell_type": "markdown",
   "metadata": {},
   "source": [
    "### Using map"
   ]
  },
  {
   "cell_type": "code",
   "execution_count": 94,
   "metadata": {
    "collapsed": true
   },
   "outputs": [],
   "source": []
  },
  {
   "cell_type": "code",
   "execution_count": 97,
   "metadata": {},
   "outputs": [
    {
     "name": "stdout",
     "output_type": "stream",
     "text": [
      "[None, None, None]\n",
      "CPU times: user 60 ms, sys: 24 ms, total: 84 ms\n",
      "Wall time: 24.3 s\n"
     ]
    }
   ],
   "source": [
    "%%time\n",
    "with ProcessPoolExecutor() as p_executor:\n",
    "    with ThreadPoolExecutor() as executor:\n",
    "        results = p_executor.map(n_fibonacci, randints)\n",
    "        results = executor.map(fake_write, results)\n",
    "        print(list(results)[:3])"
   ]
  },
  {
   "cell_type": "markdown",
   "metadata": {},
   "source": [
    "### Using submit"
   ]
  },
  {
   "cell_type": "code",
   "execution_count": 99,
   "metadata": {},
   "outputs": [
    {
     "name": "stdout",
     "output_type": "stream",
     "text": [
      "CPU times: user 60 ms, sys: 28 ms, total: 88 ms\n",
      "Wall time: 28.7 s\n"
     ]
    }
   ],
   "source": [
    "%%time\n",
    "with ProcessPoolExecutor() as p_executor:\n",
    "    with ThreadPoolExecutor() as executor:\n",
    "        futures = [\n",
    "            p_executor.submit(n_fibonacci, randn) for randn in randints\n",
    "        ]\n",
    "        t_futures = [\n",
    "            executor.submit(\n",
    "                fake_write,\n",
    "                future.result()\n",
    "            ) for future in concurrent.futures.as_completed(futures)\n",
    "        ]\n",
    "        concurrent.futures.wait(t_futures)"
   ]
  },
  {
   "cell_type": "markdown",
   "metadata": {},
   "source": [
    "## Improvements\n",
    "\n",
    "### Chunksize"
   ]
  },
  {
   "cell_type": "code",
   "execution_count": 59,
   "metadata": {},
   "outputs": [
    {
     "name": "stdout",
     "output_type": "stream",
     "text": [
      "CPU times: user 44 ms, sys: 24 ms, total: 68 ms\n",
      "Wall time: 24.1 s\n"
     ]
    }
   ],
   "source": [
    "%%time\n",
    "with ProcessPoolExecutor() as p_executor:\n",
    "    with ThreadPoolExecutor() as executor:\n",
    "        results = p_executor.map(n_fibonacci, randints, chunksize=32)\n",
    "        executor.map(fake_write, results)"
   ]
  },
  {
   "cell_type": "code",
   "execution_count": null,
   "metadata": {
    "collapsed": true
   },
   "outputs": [],
   "source": []
  }
 ],
 "metadata": {
  "kernelspec": {
   "display_name": "Python 3",
   "language": "python",
   "name": "python3"
  },
  "language_info": {
   "codemirror_mode": {
    "name": "ipython",
    "version": 3
   },
   "file_extension": ".py",
   "mimetype": "text/x-python",
   "name": "python",
   "nbconvert_exporter": "python",
   "pygments_lexer": "ipython3",
   "version": "3.6.2"
  }
 },
 "nbformat": 4,
 "nbformat_minor": 2
}
