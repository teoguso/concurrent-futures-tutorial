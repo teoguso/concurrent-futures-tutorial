{
 "cells": [
  {
   "cell_type": "markdown",
   "metadata": {},
   "source": [
    "# Playing with concurrency\n",
    "## A short story about `concurrent.futures`"
   ]
  },
  {
   "cell_type": "code",
   "execution_count": 1,
   "metadata": {
    "collapsed": true
   },
   "outputs": [],
   "source": [
    "import concurrent.futures\n",
    "import matplotlib.pyplot as plt\n",
    "import numpy as np\n",
    "import time\n",
    "from concurrent.futures import ProcessPoolExecutor, ThreadPoolExecutor\n",
    "%matplotlib inline"
   ]
  },
  {
   "cell_type": "markdown",
   "metadata": {},
   "source": [
    "Let's write some functions that do stuff (a more IRL-based use case later on)."
   ]
  },
  {
   "cell_type": "code",
   "execution_count": 2,
   "metadata": {},
   "outputs": [],
   "source": [
    "# %%writefile helpers.py\n",
    "\n",
    "def n_fibonacci(n=10):\n",
    "    \"\"\"Calculate the Nth Fibonacci number\"\"\"\n",
    "    i = 0\n",
    "    x = 1\n",
    "#     print(x)\n",
    "    for __ in range(n):\n",
    "        x, i = x + i, x\n",
    "#         print(x)\n",
    "    return x\n",
    "\n",
    "def fake_write(whatevs=None):\n",
    "    \"\"\"Take some time as if it were writing to disk/calling a rest API\"\"\"\n",
    "#     long_time = np.random.randint(1,5)\n",
    "    long_time = 1. + np.random.random()\n",
    "    time.sleep(long_time)\n",
    "    return \"Done with {} after {} secs\".format(whatevs, long_time)\n",
    "\n",
    "def calc_length(x):\n",
    "    \"\"\"Typically x is an int\"\"\"\n",
    "    return len(str(x))\n",
    "\n",
    "def calc_lengths(iterable_object):\n",
    "    \"\"\"Generate lenghts of values from generator.\n",
    "    \n",
    "    Works for any iterable.\n",
    "    \"\"\"\n",
    "    for x in iterable_object:\n",
    "        yield calc_length(x)\n",
    "\n",
    "def print_stuff(generator_object):\n",
    "    \"\"\"Print values as they are generated\"\"\"\n",
    "    for x in generator_object:\n",
    "        print(x)"
   ]
  },
  {
   "cell_type": "code",
   "execution_count": 3,
   "metadata": {},
   "outputs": [
    {
     "name": "stdout",
     "output_type": "stream",
     "text": [
      "CPU times: user 2.52 s, sys: 0 ns, total: 2.52 s\n",
      "Wall time: 2.52 s\n"
     ]
    },
    {
     "data": {
      "text/plain": [
       "104494"
      ]
     },
     "execution_count": 3,
     "metadata": {},
     "output_type": "execute_result"
    }
   ],
   "source": [
    "%time x = n_fibonacci(500000)\n",
    "len(str(x))"
   ]
  },
  {
   "cell_type": "markdown",
   "metadata": {},
   "source": [
    "Let's create an array of integers to act as input for our functions:"
   ]
  },
  {
   "cell_type": "code",
   "execution_count": 4,
   "metadata": {},
   "outputs": [
    {
     "data": {
      "text/plain": [
       "array([500007, 500004, 500007, 500001, 500002, 500001, 500007, 500009])"
      ]
     },
     "execution_count": 4,
     "metadata": {},
     "output_type": "execute_result"
    }
   ],
   "source": [
    "randints = 500000 + np.random.randint(1, 10, 8)\n",
    "randints"
   ]
  },
  {
   "cell_type": "markdown",
   "metadata": {},
   "source": [
    "How long does it take to process the whole array?"
   ]
  },
  {
   "cell_type": "code",
   "execution_count": 5,
   "metadata": {},
   "outputs": [
    {
     "name": "stdout",
     "output_type": "stream",
     "text": [
      "104496\n",
      "104495\n",
      "104496\n",
      "104494\n",
      "104495\n",
      "104494\n",
      "104496\n",
      "104496\n",
      "CPU times: user 21.2 s, sys: 4 ms, total: 21.2 s\n",
      "Wall time: 21.2 s\n"
     ]
    }
   ],
   "source": [
    "%%time\n",
    "results = (\n",
    "    n_fibonacci(n) for n in randints\n",
    ")\n",
    "print_stuff(calc_lengths(results))"
   ]
  },
  {
   "cell_type": "code",
   "execution_count": 6,
   "metadata": {},
   "outputs": [
    {
     "name": "stdout",
     "output_type": "stream",
     "text": [
      "104496\n",
      "104495\n",
      "104496\n",
      "104494\n",
      "104495\n",
      "104494\n",
      "104496\n",
      "104496\n",
      "CPU times: user 21.3 s, sys: 0 ns, total: 21.3 s\n",
      "Wall time: 21.3 s\n"
     ]
    }
   ],
   "source": [
    "%%time\n",
    "results = map(\n",
    "    n_fibonacci, randints\n",
    ")\n",
    "print_stuff(calc_lengths(results))"
   ]
  },
  {
   "cell_type": "markdown",
   "metadata": {},
   "source": [
    "This is definitely too long... how can one improve it?"
   ]
  },
  {
   "cell_type": "markdown",
   "metadata": {},
   "source": [
    "### Multiprocessing through `concurrent.futures`"
   ]
  },
  {
   "cell_type": "code",
   "execution_count": 7,
   "metadata": {},
   "outputs": [
    {
     "name": "stdout",
     "output_type": "stream",
     "text": [
      "104496\n",
      "104495\n",
      "104496\n",
      "104494\n",
      "104495\n",
      "104494\n",
      "104496\n",
      "104496\n",
      "CPU times: user 1.14 s, sys: 8 ms, total: 1.14 s\n",
      "Wall time: 6.14 s\n"
     ]
    }
   ],
   "source": [
    "%%time\n",
    "with ProcessPoolExecutor() as p_executor:\n",
    "    results = p_executor.map(n_fibonacci, randints)\n",
    "#     printout = p_executor.map(calc_length, results)\n",
    "#     print(list(printout))\n",
    "    print_stuff(calc_lengths(results))"
   ]
  },
  {
   "cell_type": "markdown",
   "metadata": {},
   "source": [
    "This is better, but shouldn't it be `n_procs` better?  \n",
    "Let's take a deeper look:"
   ]
  },
  {
   "cell_type": "code",
   "execution_count": 8,
   "metadata": {},
   "outputs": [
    {
     "name": "stdout",
     "output_type": "stream",
     "text": [
      "104496\n",
      "104495\n",
      "104496\n",
      "104494\n",
      "104495\n",
      "104494\n",
      "104496\n",
      "104496\n",
      "Pool setup time: 0.0004532337188720703 secs\n",
      "Computation time: 6.530499219894409 secs\n",
      "Teardown time: 0.0052068233489990234 secs\n"
     ]
    }
   ],
   "source": [
    "start = time.time()\n",
    "with ProcessPoolExecutor() as p_executor:\n",
    "    checkpoint_a = time.time()\n",
    "    results = p_executor.map(n_fibonacci, randints, chunksize=2)\n",
    "    print_stuff(calc_lengths(results))\n",
    "    checkpoint_b = time.time()\n",
    "end = time.time()\n",
    "print(\"Pool setup time: {} secs\".format(checkpoint_a - start))\n",
    "print(\"Computation time: {} secs\".format(checkpoint_b - checkpoint_a))\n",
    "print(\"Teardown time: {} secs\".format(end - checkpoint_b))"
   ]
  },
  {
   "cell_type": "markdown",
   "metadata": {},
   "source": [
    "There is minimal overhead for setting up the pool of processes (about 1 ms).  \n",
    "Most overhead is due to communication between processes (i.e. sending data back and forth from processes).\n",
    "\n",
    "One can analyse how scaling evolves with the length of the single task."
   ]
  },
  {
   "cell_type": "code",
   "execution_count": 9,
   "metadata": {},
   "outputs": [
    {
     "name": "stdout",
     "output_type": "stream",
     "text": [
      "1\n",
      "2\n",
      "3\n",
      "4\n",
      "5\n",
      "[(1, 0.9554667472839355, 0.29555702209472656), (2, 3.5456128120422363, 0.9413728713989258), (3, 7.762457847595215, 2.3403379917144775), (4, 13.664617538452148, 3.620365858078003), (5, 21.658860445022583, 5.820950269699097)]\n"
     ]
    }
   ],
   "source": [
    "plot_data = []\n",
    "with ProcessPoolExecutor() as p_executor:\n",
    "    for i in range(1, 6):\n",
    "        print(i)\n",
    "        randints = i * 50000 + np.random.randint(1, 10, 32)\n",
    "        start = time.time()\n",
    "        results = (\n",
    "            n_fibonacci(n) for n in randints\n",
    "        )\n",
    "#         print_stuff(calc_lengths(results))\n",
    "        [__ for __ in results]\n",
    "        seq_time = time.time() - start\n",
    "        start = time.time()\n",
    "        results = p_executor.map(n_fibonacci, randints)\n",
    "        [__ for __ in results]\n",
    "        plot_data.append((i, seq_time, time.time() - start))\n",
    "print(plot_data)\n",
    "# plt.plot(*plot_data);"
   ]
  },
  {
   "cell_type": "code",
   "execution_count": 10,
   "metadata": {},
   "outputs": [
    {
     "name": "stdout",
     "output_type": "stream",
     "text": [
      "1\n",
      "2\n",
      "3\n",
      "4\n",
      "5\n"
     ]
    }
   ],
   "source": [
    "two_procs_data = []\n",
    "with ProcessPoolExecutor(2) as p_executor:\n",
    "    for i in range(1, 6):\n",
    "        print(i)\n",
    "        randints = i * 50000 + np.random.randint(1, 10, 32)\n",
    "        start = time.time()\n",
    "        results = p_executor.map(n_fibonacci, randints, chunksize=16)\n",
    "        [__ for __ in results]\n",
    "        two_procs_data.append((i, time.time() - start))"
   ]
  },
  {
   "cell_type": "code",
   "execution_count": 11,
   "metadata": {},
   "outputs": [
    {
     "name": "stderr",
     "output_type": "stream",
     "text": [
      "/home/guzzo/Software/anaconda3/envs/concurrent-futures/lib/python3.6/site-packages/matplotlib/font_manager.py:280: UserWarning: Matplotlib is building the font cache using fc-list. This may take a moment.\n",
      "  'Matplotlib is building the font cache using fc-list. '\n"
     ]
    },
    {
     "data": {
      "image/png": "[encoded data removed]",
      "text/plain": [
       "<matplotlib.figure.Figure at 0x7f1db8e506d8>"
      ]
     },
     "metadata": {},
     "output_type": "display_data"
    }
   ],
   "source": [
    "plt.figure(figsize=(12, 4))\n",
    "x = [x[0] for x in plot_data]\n",
    "y_seq = [x[1] for x in plot_data]\n",
    "y_para = [x[2] for x in plot_data]\n",
    "y_ratio = [x[1]/x[2] for x in plot_data]\n",
    "y_para_two = [x[1] for x in two_procs_data]\n",
    "y_ratio_two = [x[0][1]/x[1][-1] for x in zip(plot_data, two_procs_data)]\n",
    "plt.subplot(1, 2, 1)\n",
    "plt.xlabel(\"Job size\")\n",
    "plt.ylabel(\"Duration [secs]\")\n",
    "plt.plot(x, y_seq, '-o', label=\"sequential\")\n",
    "plt.plot(x, y_para, '-o', label=\"max procs\")\n",
    "plt.plot(x, y_para_two, '-o', label=\"2 procs\")\n",
    "# plt.yscale('log')\n",
    "plt.legend()\n",
    "plt.grid();\n",
    "plt.subplot(1, 2, 2)\n",
    "plt.xlabel(\"Job size\")\n",
    "plt.ylabel(\"Improvement ratio\")\n",
    "plt.plot(x, np.ones(len(x)), label=\"sequential\")\n",
    "plt.plot(x, y_ratio, '-o', label=\"max procs\")\n",
    "plt.plot(x, y_ratio_two, '-o', label=\"2 procs\")\n",
    "plt.ylim((0,4))\n",
    "plt.legend()\n",
    "plt.grid();"
   ]
  },
  {
   "cell_type": "code",
   "execution_count": 12,
   "metadata": {},
   "outputs": [
    {
     "data": {
      "text/plain": [
       "[1.807564991987212,\n",
       " 1.8767705727431085,\n",
       " 1.8690502652184895,\n",
       " 1.8779026267542398,\n",
       " 1.978222335854618]"
      ]
     },
     "execution_count": 12,
     "metadata": {},
     "output_type": "execute_result"
    }
   ],
   "source": [
    "y_ratio_two"
   ]
  },
  {
   "cell_type": "markdown",
   "metadata": {},
   "source": [
    "### Now what?\n",
    "\n",
    "We have calculated important stuff, and we want to store it/send it somewhere safe.\n",
    "\n",
    "Let's say we save it to disk for now.\n",
    "How long is that going to take?"
   ]
  },
  {
   "cell_type": "code",
   "execution_count": 13,
   "metadata": {
    "collapsed": true
   },
   "outputs": [],
   "source": [
    "randints = 3 * 100000 + np.random.randint(1, 10, 32)"
   ]
  },
  {
   "cell_type": "code",
   "execution_count": 14,
   "metadata": {},
   "outputs": [
    {
     "name": "stdout",
     "output_type": "stream",
     "text": [
      "CPU times: user 16 ms, sys: 8 ms, total: 24 ms\n",
      "Wall time: 8.27 s\n"
     ]
    }
   ],
   "source": [
    "%%time\n",
    "with ProcessPoolExecutor() as p_exec:\n",
    "    results = p_exec.map(n_fibonacci, randints)\n",
    "    myres = list(results)"
   ]
  },
  {
   "cell_type": "code",
   "execution_count": 15,
   "metadata": {},
   "outputs": [
    {
     "name": "stdout",
     "output_type": "stream",
     "text": [
      "CPU times: user 2.1 s, sys: 4 ms, total: 2.1 s\n",
      "Wall time: 51.2 s\n"
     ]
    }
   ],
   "source": [
    "%%time\n",
    "for r in myres:\n",
    "    fake_write(r)"
   ]
  },
  {
   "cell_type": "code",
   "execution_count": 16,
   "metadata": {},
   "outputs": [
    {
     "name": "stdout",
     "output_type": "stream",
     "text": [
      "62738\n",
      "62738\n",
      "62738\n",
      "62739\n",
      "62739\n",
      "62737\n",
      "62737\n",
      "62737\n",
      "62738\n",
      "62737\n",
      "62739\n",
      "62738\n",
      "62738\n",
      "62739\n",
      "62737\n",
      "62738\n",
      "62738\n",
      "62737\n",
      "62738\n",
      "62738\n",
      "62737\n",
      "62738\n",
      "62737\n",
      "62738\n",
      "62738\n",
      "62738\n",
      "62737\n",
      "62739\n",
      "62737\n",
      "62737\n",
      "62738\n",
      "62737\n",
      "CPU times: user 32 ms, sys: 16 ms, total: 48 ms\n",
      "Wall time: 13.6 s\n"
     ]
    }
   ],
   "source": [
    "%%time\n",
    "with ProcessPoolExecutor() as p:\n",
    "    results = p.map(fake_write, myres)\n",
    "    print_stuff(calc_lengths(results))"
   ]
  },
  {
   "cell_type": "code",
   "execution_count": 17,
   "metadata": {},
   "outputs": [
    {
     "name": "stdout",
     "output_type": "stream",
     "text": [
      "62738\n",
      "62738\n",
      "62738\n",
      "62739\n",
      "62738\n",
      "62737\n",
      "62737\n",
      "62737\n",
      "62738\n",
      "62737\n",
      "62739\n",
      "62738\n",
      "62738\n",
      "62737\n",
      "62737\n",
      "62738\n",
      "62739\n",
      "62738\n",
      "62739\n",
      "62739\n",
      "62737\n",
      "62737\n",
      "62737\n",
      "62738\n",
      "62738\n",
      "62738\n",
      "62737\n",
      "62739\n",
      "62737\n",
      "62737\n",
      "62737\n",
      "62736\n",
      "CPU times: user 1.79 s, sys: 20 ms, total: 1.81 s\n",
      "Wall time: 3.49 s\n"
     ]
    }
   ],
   "source": [
    "%%time\n",
    "with ThreadPoolExecutor() as p:\n",
    "    results = p.map(fake_write, myres)\n",
    "    print_stuff(calc_lengths(results))"
   ]
  },
  {
   "cell_type": "markdown",
   "metadata": {},
   "source": [
    "How does it actually scale?"
   ]
  },
  {
   "cell_type": "code",
   "execution_count": 21,
   "metadata": {},
   "outputs": [
    {
     "name": "stdout",
     "output_type": "stream",
     "text": [
      "1\n",
      "2\n",
      "3\n",
      "4\n",
      "5\n"
     ]
    }
   ],
   "source": [
    "data = []\n",
    "for i in range(1, 6):\n",
    "    print(i)\n",
    "    n_exec = i*5\n",
    "    with ThreadPoolExecutor(n_exec) as p:\n",
    "        start = time.time()\n",
    "        results = p.map(fake_write, myres)\n",
    "        list(calc_lengths(results))\n",
    "        data.append((n_exec, time.time() - start))"
   ]
  },
  {
   "cell_type": "code",
   "execution_count": 22,
   "metadata": {},
   "outputs": [
    {
     "data": {
      "image/png": "[encoded data removed]",
      "text/plain": [
       "<matplotlib.figure.Figure at 0x7f1db8374f98>"
      ]
     },
     "metadata": {},
     "output_type": "display_data"
    }
   ],
   "source": [
    "x = [x[0] for x in data]\n",
    "y = [50/x[1] for x in data]\n",
    "plt.plot(x, y, '-o')\n",
    "# plt.ylim((0,12))\n",
    "plt.xticks(x)\n",
    "plt.xlabel(\"Number of threads\")\n",
    "plt.ylabel(\"Speed improvement ratio\")\n",
    "# plt.arrow(20, 6, 0, 3)\n",
    "plt.annotate(\"max_workers\\ndefault value\\n(5*nprocs)\", xy=(20, 10), xytext=(19,6), arrowprops=dict(arrowstyle=\"->\"))\n",
    "plt.grid();"
   ]
  },
  {
   "cell_type": "markdown",
   "metadata": {},
   "source": [
    "### Combining everything together\n",
    "Can we use these tools to optimize all parts of a program?"
   ]
  },
  {
   "cell_type": "code",
   "execution_count": 23,
   "metadata": {},
   "outputs": [
    {
     "name": "stdout",
     "output_type": "stream",
     "text": [
      "Done with 62697 after 1.724393729182347 secs\n",
      "Done with 62697 after 1.8738078503313356 secs\n",
      "Done with 62698 after 1.8053980048324214 secs\n",
      "Done with 62698 after 1.4419786339756695 secs\n",
      "Done with 62699 after 1.6762163576508184 secs\n",
      "Done with 62697 after 1.3449874494509144 secs\n",
      "Done with 62698 after 1.5150681650428952 secs\n",
      "Done with 62697 after 1.870407560675757 secs\n",
      "Done with 62698 after 1.597669516898116 secs\n",
      "Done with 62698 after 1.7656136310068193 secs\n",
      "Done with 62698 after 1.8265382870046194 secs\n",
      "Done with 62697 after 1.3790359371326688 secs\n",
      "Done with 62697 after 1.6415926307632058 secs\n",
      "Done with 62698 after 1.796798956413907 secs\n",
      "Done with 62698 after 1.0623397609756484 secs\n",
      "Done with 62698 after 1.0609045695169828 secs\n",
      "Done with 62698 after 1.2174601426874316 secs\n",
      "Done with 62697 after 1.5273809326143617 secs\n",
      "Done with 62698 after 1.7878906258712504 secs\n",
      "Done with 62697 after 1.5510161907580895 secs\n",
      "Done with 62698 after 1.7087365883812513 secs\n",
      "Done with 62697 after 1.6171965460983455 secs\n",
      "Done with 62698 after 1.1789221748729024 secs\n",
      "Done with 62698 after 1.7126122454736052 secs\n",
      "Done with 62699 after 1.569063719845752 secs\n",
      "Done with 62698 after 1.5101299906764605 secs\n",
      "Done with 62698 after 1.394911942759813 secs\n",
      "Done with 62697 after 1.4200195232874888 secs\n",
      "Done with 62697 after 1.2612727564747213 secs\n",
      "Done with 62698 after 1.01411378919521 secs\n",
      "Done with 62697 after 1.844814823301956 secs\n",
      "Done with 62697 after 1.9192488079191319 secs\n",
      "CPU times: user 44 ms, sys: 16 ms, total: 60 ms\n",
      "Wall time: 12 s\n"
     ]
    }
   ],
   "source": [
    "%%time\n",
    "randints = 3 * 100000 + np.random.randint(1, 10, 32)\n",
    "with ProcessPoolExecutor() as pp:\n",
    "    with ThreadPoolExecutor() as tp:\n",
    "        cpu_results = pp.map(n_fibonacci, randints)\n",
    "        cpu_results = pp.map(calc_length, cpu_results)\n",
    "        th_results = tp.map(fake_write, cpu_results)\n",
    "        print_stuff(th_results)"
   ]
  },
  {
   "cell_type": "code",
   "execution_count": 24,
   "metadata": {},
   "outputs": [
    {
     "name": "stdout",
     "output_type": "stream",
     "text": [
      "Done with 62697 after 1.072164726366464 secs\n",
      "Done with 62698 after 1.178858345815902 secs\n",
      "Done with 62697 after 1.2135406752383922 secs\n",
      "Done with 62698 after 1.3083323412225831 secs\n",
      "Done with 62697 after 1.3457600476996578 secs\n",
      "Done with 62699 after 1.4126906460710642 secs\n",
      "Done with 62698 after 1.4658467417446914 secs\n",
      "Done with 62697 after 1.6080121696312641 secs\n",
      "Done with 62698 after 1.5475815275849523 secs\n",
      "Done with 62698 after 1.560774382410027 secs\n",
      "Done with 62698 after 1.5545395329003497 secs\n",
      "Done with 62698 after 1.6913499266321448 secs\n",
      "Done with 62698 after 1.6307767092764425 secs\n",
      "Done with 62699 after 1.6931858092890415 secs\n",
      "Done with 62698 after 1.7934175827695733 secs\n",
      "Done with 62698 after 1.8594052556176255 secs\n",
      "Done with 62698 after 1.8815365733329403 secs\n",
      "Done with 62698 after 1.9672082543797227 secs\n",
      "Done with 62698 after 1.9406108346829827 secs\n",
      "Done with 62697 after 1.9816510196243589 secs\n",
      "Done with 62697 after 1.187347103250215 secs\n",
      "Done with 62698 after 1.7594938760882637 secs\n",
      "Done with 62697 after 1.562362497160417 secs\n",
      "Done with 62697 after 1.3241955776915437 secs\n",
      "Done with 62699 after 1.8467746857551681 secs\n",
      "Done with 62697 after 1.9937855920355698 secs\n",
      "Done with 62698 after 1.6876759282958385 secs\n",
      "Done with 62697 after 1.9760300246487246 secs\n",
      "Done with 62697 after 1.8320467656092267 secs\n",
      "Done with 62698 after 1.7399924548584842 secs\n",
      "Done with 62697 after 1.9432039887459638 secs\n",
      "Done with 62698 after 1.9583597113219797 secs\n",
      "CPU times: user 56 ms, sys: 24 ms, total: 80 ms\n",
      "Wall time: 11.9 s\n"
     ]
    }
   ],
   "source": [
    "%%time\n",
    "randints = 3 * 100000 + np.random.randint(1, 10, 32)\n",
    "with ProcessPoolExecutor() as pp:\n",
    "    with ThreadPoolExecutor() as tp:\n",
    "        cpu_results = pp.map(n_fibonacci, randints)\n",
    "        p_futures = []\n",
    "        t_futures = []\n",
    "        for res in cpu_results:\n",
    "            p_futures.append(\n",
    "                pp.submit(calc_length, res)\n",
    "            )\n",
    "        for f in concurrent.futures.as_completed(p_futures):\n",
    "            t_futures.append(\n",
    "                tp.submit(fake_write, f.result())\n",
    "            )\n",
    "#         for res in cpu_results:\n",
    "#             mylen = calc_length(res)\n",
    "#             tp.submit(fake_write, mylen)\n",
    "        for f in concurrent.futures.as_completed(t_futures):\n",
    "            print(f.result())"
   ]
  },
  {
   "cell_type": "markdown",
   "metadata": {},
   "source": [
    "### Quick code analysis\n",
    "\n",
    "This piece of code has two main parts (does it look familiar?):\n",
    "\n",
    "1. A computing part.\n",
    "2. An I/O part.\n",
    "\n",
    "Let's take a look at each one separately."
   ]
  },
  {
   "cell_type": "code",
   "execution_count": null,
   "metadata": {
    "collapsed": true
   },
   "outputs": [],
   "source": []
  },
  {
   "cell_type": "markdown",
   "metadata": {},
   "source": [
    "### Using map"
   ]
  },
  {
   "cell_type": "code",
   "execution_count": 94,
   "metadata": {
    "collapsed": true
   },
   "outputs": [],
   "source": []
  },
  {
   "cell_type": "code",
   "execution_count": 97,
   "metadata": {},
   "outputs": [
    {
     "name": "stdout",
     "output_type": "stream",
     "text": [
      "[None, None, None]\n",
      "CPU times: user 60 ms, sys: 24 ms, total: 84 ms\n",
      "Wall time: 24.3 s\n"
     ]
    }
   ],
   "source": [
    "%%time\n",
    "with ProcessPoolExecutor() as p_executor:\n",
    "    with ThreadPoolExecutor() as executor:\n",
    "        results = p_executor.map(n_fibonacci, randints)\n",
    "        results = executor.map(fake_write, results)\n",
    "        print(list(results)[:3])"
   ]
  },
  {
   "cell_type": "markdown",
   "metadata": {},
   "source": [
    "### Using submit"
   ]
  },
  {
   "cell_type": "code",
   "execution_count": 99,
   "metadata": {},
   "outputs": [
    {
     "name": "stdout",
     "output_type": "stream",
     "text": [
      "CPU times: user 60 ms, sys: 28 ms, total: 88 ms\n",
      "Wall time: 28.7 s\n"
     ]
    }
   ],
   "source": [
    "%%time\n",
    "with ProcessPoolExecutor() as p_executor:\n",
    "    with ThreadPoolExecutor() as executor:\n",
    "        futures = [\n",
    "            p_executor.submit(n_fibonacci, randn) for randn in randints\n",
    "        ]\n",
    "        t_futures = [\n",
    "            executor.submit(\n",
    "                fake_write,\n",
    "                future.result()\n",
    "            ) for future in concurrent.futures.as_completed(futures)\n",
    "        ]\n",
    "        concurrent.futures.wait(t_futures)"
   ]
  },
  {
   "cell_type": "markdown",
   "metadata": {},
   "source": [
    "## Improvements\n",
    "\n",
    "Possible improvements include:\n",
    "\n",
    "- Optimize your code\n",
    "- \n",
    "\n",
    "\n",
    "### Chunksize"
   ]
  },
  {
   "cell_type": "code",
   "execution_count": 59,
   "metadata": {},
   "outputs": [
    {
     "name": "stdout",
     "output_type": "stream",
     "text": [
      "CPU times: user 44 ms, sys: 24 ms, total: 68 ms\n",
      "Wall time: 24.1 s\n"
     ]
    }
   ],
   "source": [
    "%%time\n",
    "with ProcessPoolExecutor() as p_executor:\n",
    "    with ThreadPoolExecutor() as executor:\n",
    "        results = p_executor.map(n_fibonacci, randints, chunksize=32)\n",
    "        executor.map(fake_write, results)"
   ]
  },
  {
   "cell_type": "code",
   "execution_count": 25,
   "metadata": {
    "collapsed": true
   },
   "outputs": [],
   "source": [
    "def n_fibonacci(n=10):\n",
    "    \"\"\"Calculate the Nth Fibonacci number\"\"\"\n",
    "    i = 0\n",
    "    x = 1\n",
    "#     print(x)\n",
    "    for __ in range(n):\n",
    "        x, i = x + i, x\n",
    "#         print(x)\n",
    "    return x"
   ]
  },
  {
   "cell_type": "code",
   "execution_count": 29,
   "metadata": {
    "collapsed": true
   },
   "outputs": [],
   "source": [
    "def n_fib(n=10):\n",
    "#     i_0 = 0\n",
    "#     i_1 = 1\n",
    "    if n != 0 and n != 1:\n",
    "        return n_fib(n-1) + n_fib(n-2)\n",
    "    else:\n",
    "        return n"
   ]
  },
  {
   "cell_type": "code",
   "execution_count": 36,
   "metadata": {},
   "outputs": [
    {
     "name": "stdout",
     "output_type": "stream",
     "text": [
      "23.1 µs ± 146 ns per loop (mean ± std. dev. of 7 runs, 10000 loops each)\n"
     ]
    }
   ],
   "source": [
    "%timeit n_fib()"
   ]
  },
  {
   "cell_type": "code",
   "execution_count": 37,
   "metadata": {},
   "outputs": [
    {
     "name": "stdout",
     "output_type": "stream",
     "text": [
      "606 ns ± 2.9 ns per loop (mean ± std. dev. of 7 runs, 1000000 loops each)\n"
     ]
    }
   ],
   "source": [
    "%timeit n_fibonacci()"
   ]
  },
  {
   "cell_type": "code",
   "execution_count": null,
   "metadata": {
    "collapsed": true
   },
   "outputs": [],
   "source": []
  }
 ],
 "metadata": {
  "kernelspec": {
   "display_name": "Python 3",
   "language": "python",
   "name": "python3"
  },
  "language_info": {
   "codemirror_mode": {
    "name": "ipython",
    "version": 3
   },
   "file_extension": ".py",
   "mimetype": "text/x-python",
   "name": "python",
   "nbconvert_exporter": "python",
   "pygments_lexer": "ipython3",
   "version": "3.6.2"
  }
 },
 "nbformat": 4,
 "nbformat_minor": 2
}
