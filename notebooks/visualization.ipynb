{
 "cells": [
  {
   "cell_type": "code",
   "execution_count": 1,
   "metadata": {
    "collapsed": true
   },
   "outputs": [],
   "source": [
    "# Preamble\n",
    "import concurrent.futures\n",
    "import matplotlib\n",
    "import matplotlib.pyplot as plt\n",
    "# import pprint\n",
    "import random\n",
    "import time\n",
    "from concurrent.futures import ProcessPoolExecutor, ThreadPoolExecutor, as_completed, wait\n",
    "%matplotlib inline\n",
    "# Slightly larger-than-normal figures\n",
    "matplotlib.rcParams['figure.figsize'] = (8, 5)\n",
    "\n",
    "from helpers import fetch_datum, store_output, n_fibonacci, digits_fibonacci\n",
    "# fetch_datum = fake_io\n",
    "# store_output = fake_io\n",
    "\n",
    "random.seed(42)\n",
    "# print = pprint.pprint"
   ]
  },
  {
   "cell_type": "markdown",
   "metadata": {},
   "source": [
    "Visualizing `concurrent.futures`\n",
    "===================\n",
    "\n",
    "This notebook shows how the `concurrent.future` module can be used to speed up the running time of a data processing task that involves an arbitrary number of similar sub-tasks."
   ]
  },
  {
   "cell_type": "markdown",
   "metadata": {},
   "source": [
    "Our 'data processing' task consists in calculating the nth Fibonacci number $F_n$, given an input $n$.\n",
    "\n",
    "The Fibonacci sequence is defined as follows:\n",
    "\n",
    "$$\n",
    "F_n = F_{n-1} + F_{n-2}\n",
    "$$\n",
    "with seed values $F_0 = 0$ and $F_1 = 1$ [see more].\n",
    "\n",
    "[see more]: https://en.wikipedia.org/wiki/Fibonacci_number"
   ]
  },
  {
   "cell_type": "code",
   "execution_count": 2,
   "metadata": {},
   "outputs": [
    {
     "data": {
      "text/plain": [
       "[0, 1, 1, 2, 3, 5, 8, 13, 21, 34]"
      ]
     },
     "execution_count": 2,
     "metadata": {},
     "output_type": "execute_result"
    }
   ],
   "source": [
    "fibonacci_sequence = [\n",
    "    n_fibonacci(n) for n in range(10)\n",
    "]\n",
    "fibonacci_sequence"
   ]
  },
  {
   "cell_type": "markdown",
   "metadata": {},
   "source": [
    "Processing is quite fast for small integers:"
   ]
  },
  {
   "cell_type": "code",
   "execution_count": 3,
   "metadata": {},
   "outputs": [
    {
     "name": "stdout",
     "output_type": "stream",
     "text": [
      "CPU times: user 0 ns, sys: 0 ns, total: 0 ns\n",
      "Wall time: 5.72 µs\n"
     ]
    },
    {
     "data": {
      "text/plain": [
       "55"
      ]
     },
     "execution_count": 3,
     "metadata": {},
     "output_type": "execute_result"
    }
   ],
   "source": [
    "%time n_fibonacci(10)\n",
    "# random.random()"
   ]
  },
  {
   "cell_type": "markdown",
   "metadata": {},
   "source": [
    "and it gets slower for larger numbers:"
   ]
  },
  {
   "cell_type": "code",
   "execution_count": 4,
   "metadata": {},
   "outputs": [
    {
     "name": "stdout",
     "output_type": "stream",
     "text": [
      "CPU times: user 8 ms, sys: 0 ns, total: 8 ms\n",
      "Wall time: 6.31 ms\n"
     ]
    },
    {
     "data": {
      "text/plain": [
       "2531162323732361242240155003520607291766356485802485278951929841991312781760541315230153423463758831637443488219211037689033673531462742885329724071555187618026931630449193158922771331642302030331971098689235780843478258502779200293635651897483309686042860996364443514558772156043691404155819572984971754278513112487985892718229593329483578531419148805380281624260900362993556916638613939977074685016188258584312329139526393558096840812970422952418558991855772306882442574855589237165219912238201311184749075137322987656049866305366913734924425822681338966507463855180236283582409861199212323835947891143765414913345008456022009455704210891637791911265475167769704477334859109822590053774932978465651023851447920601310106288957894301592502061560528131203072778677491443420921822590709910448617329156135355464620891788459566081572824889514296350670950824208245170667601726417091127999999941149913010424532046881958285409468463211897582215075436515584016297874572183907949257286261608612401379639484713101138120404671732190451327881433201025184027541696124114463488665359385870910331476156665889459832092710304159637019707297988417848767011085425271875588008671422491434005115288334343837778792282383576736341414410248994081564830202363820504190074504566612515965134665683289356188727549463732830075811851574961558669278847363279870595320099844676879457196432535973357128305390290471349480258751812890314779723508104229525161740643984423978659638233074463100366500571977234508464710078102581304823235436518145074482824812996511614161933313389889630935320139507075992100561077534028207257574257706278201308302642634678112591091843082665721697117838726431766741158743554298864560993255547608496686850185804659790217122426535133253371422250684486113457341827911625517128815447325958547912113242367201990672230681308819195941016156001961954700241576553750737681552256845421159386858399433450045903975167084252876848848085910156941603293424067793097271128806817514906531652407763118308162377033463203514657531210413149191213595455280387631030665594589183601575340027172997222489081631144728873621805528648768511368948639522975539046995395707688938978847084621586473529546678958226255042389998718141303055036060772003887773038422366913820397748550793178167220193346017430024134496141145991896227741842515718997898627269918236920453493946658273870473264523119133765447653295022886429174942653014656521909469613184983671431465934965489425515981067546087342348350724207583544436107294087637975025147846254526938442435644928231027868701394819091132912397475713787593612758364812687556725146456646878912169274219209708166678668152184941578590201953144030519381922273252666652671717526318606676754556170379350956342095455612780202199922615392785572481747913435560866995432578680971243966868110016581395696310922519803685837460795358384618017215468122880442252343684547233668502313239328352671318130604247460452134121833305284398726438573787798499612760939462427922917659263046333084007208056631996856315539698234022953452211505675629153637867252695056925345220084020071611220575700841268302638995272842160994219632684575364180160991884885091858259996299627148614456696661412745040519981575543804847463997422326563897043803732970397488471644906183310144691243649149542394691524972023935190633672827306116525712882959108434211652465621144702015336657459532134026915214509960877430595844287585350290234547564574848753110281101545931547225811763441710217452979668178025286460158324658852904105792472468108996135476637212057508192176910900422826969523438985332067597093454021924077101784215936539638808624420121459718286059401823614213214326004270471752802725625810953787713898846144256909835116371235019527013180204030167601567064268573820697948868982630904164685161783088076506964317303709708574052747204405282785965604677674192569851918643651835755242670293612851920696732320545562286110332140065912751551110134916256237884844001366366654055079721985816714803952429301558096968202261698837096090377863017797020488044826628817462866854321356787305635653577619877987998113667928954840972022833505708587561902023411398915823487627297968947621416912816367516125096563705174220460639857683971213093125"
      ]
     },
     "execution_count": 4,
     "metadata": {},
     "output_type": "execute_result"
    }
   ],
   "source": [
    "%time n_fibonacci(20000)"
   ]
  },
  {
   "cell_type": "markdown",
   "metadata": {},
   "source": [
    "The last output shows how large the 20000th Fibonacci number actually is.  \n",
    "What if we just checked the number of digits in the nth Fibonacci number?"
   ]
  },
  {
   "cell_type": "code",
   "execution_count": 5,
   "metadata": {},
   "outputs": [
    {
     "name": "stdout",
     "output_type": "stream",
     "text": [
      "CPU times: user 8 ms, sys: 0 ns, total: 8 ms\n",
      "Wall time: 6.49 ms\n"
     ]
    },
    {
     "data": {
      "text/plain": [
       "4180"
      ]
     },
     "execution_count": 5,
     "metadata": {},
     "output_type": "execute_result"
    }
   ],
   "source": [
    "%time digits_fibonacci(int(2E4))"
   ]
  },
  {
   "cell_type": "markdown",
   "metadata": {},
   "source": [
    "So the 20000th Fibonacci number has 4180 digits (This is done purely to avoid output flooding) :-D"
   ]
  },
  {
   "cell_type": "markdown",
   "metadata": {},
   "source": [
    "### Define a list of inputs\n",
    "\n",
    "Nothing fancy here.\n",
    "This is a uniform distribution of numbers in the range $200000 \\pm 50000$."
   ]
  },
  {
   "cell_type": "code",
   "execution_count": 6,
   "metadata": {},
   "outputs": [
    {
     "name": "stdout",
     "output_type": "stream",
     "text": [
      "[233810, 164592, 153278, 247196, 186048, 182098, 179256, 168289, 246530, 163434, 238696, 247080, 221482, 161395, 227397, 205302]\n"
     ]
    }
   ],
   "source": [
    "input_numbers = [\n",
    "    int(2E5) + random.randint(-1E5, 1E5) // 2 for __ in range(16)\n",
    "]\n",
    "print(input_numbers)"
   ]
  },
  {
   "cell_type": "markdown",
   "metadata": {},
   "source": [
    "Let's see how they look:"
   ]
  },
  {
   "cell_type": "code",
   "execution_count": 7,
   "metadata": {},
   "outputs": [
    {
     "data": {
      "image/png": "[encoded data removed]",
      "text/plain": [
       "<matplotlib.figure.Figure at 0x7fde25f4a9e8>"
      ]
     },
     "metadata": {},
     "output_type": "display_data"
    }
   ],
   "source": [
    "plt.scatter(range(len(input_numbers)), input_numbers)\n",
    "plt.xlim(-0.3, 15.3)\n",
    "plt.xticks([0, 5, 10, 15])\n",
    "plt.grid();"
   ]
  },
  {
   "cell_type": "markdown",
   "metadata": {},
   "source": [
    "One should factor in some additional time for read/write from/to disk/API, or the I/O of choice:"
   ]
  },
  {
   "cell_type": "code",
   "execution_count": 8,
   "metadata": {},
   "outputs": [
    {
     "name": "stdout",
     "output_type": "stream",
     "text": [
      "4180\n",
      "CPU times: user 40 ms, sys: 104 ms, total: 144 ms\n",
      "Wall time: 452 ms\n"
     ]
    }
   ],
   "source": [
    "%%time\n",
    "data_in = fetch_datum(int(2e4)) # e.g read data from disk/API\n",
    "n_digits = digits_fibonacci(data_in)\n",
    "print(store_output(n_digits)) # e.g. write data to disk/API"
   ]
  },
  {
   "cell_type": "markdown",
   "metadata": {},
   "source": [
    "Let's see how long the whole process takes:"
   ]
  },
  {
   "cell_type": "code",
   "execution_count": 9,
   "metadata": {},
   "outputs": [
    {
     "name": "stdout",
     "output_type": "stream",
     "text": [
      "48864 34398 32033 51661 38882 38056 37462 35170 51522 34156 49885 51637 46287 33730 47523 42906 \n",
      "CPU times: user 8.12 s, sys: 24 ms, total: 8.14 s\n",
      "Wall time: 17.3 s\n"
     ]
    }
   ],
   "source": [
    "%%time\n",
    "for n in input_numbers:\n",
    "    fetch_datum(n) # e.g. read data from disk/API\n",
    "    n_digits = digits_fibonacci(n)\n",
    "    print(store_output(n_digits), end=\" \") # e.g. write data to disk/API\n",
    "print()"
   ]
  },
  {
   "cell_type": "markdown",
   "metadata": {},
   "source": [
    "Let's take a closer look, using checkpoints at each step:"
   ]
  },
  {
   "cell_type": "code",
   "execution_count": 10,
   "metadata": {},
   "outputs": [
    {
     "name": "stdout",
     "output_type": "stream",
     "text": [
      "48864 34398 32033 51661 38882 38056 37462 35170 51522 34156 49885 51637 46287 33730 47523 42906 \n",
      "CPU times: user 7.65 s, sys: 4 ms, total: 7.65 s\n",
      "Wall time: 17.5 s\n"
     ]
    }
   ],
   "source": [
    "%%time\n",
    "start = time.time()\n",
    "seq_checkpoints = []\n",
    "seq_checkpoints.append(time.time() - start)\n",
    "for n in input_numbers:\n",
    "    fetch_datum(n) # e.g read data from disk/API\n",
    "    seq_checkpoints.append(time.time() - start)\n",
    "    n_digits = digits_fibonacci(n)\n",
    "    seq_checkpoints.append(time.time() - start)\n",
    "    print(store_output(n_digits), end=\" \") # e.g. write data to disk/API\n",
    "    seq_checkpoints.append(time.time() - start)\n",
    "print()"
   ]
  },
  {
   "cell_type": "markdown",
   "metadata": {},
   "source": [
    "We can now visualize the time taken by each task, in sequential order."
   ]
  },
  {
   "cell_type": "code",
   "execution_count": 11,
   "metadata": {
    "scrolled": false
   },
   "outputs": [
    {
     "data": {
      "text/plain": [
       "(0, 4)"
      ]
     },
     "execution_count": 11,
     "metadata": {},
     "output_type": "execute_result"
    },
    {
     "data": {
      "image/png": "[encoded data removed]",
      "text/plain": [
       "<matplotlib.figure.Figure at 0x7fde01d0b400>"
      ]
     },
     "metadata": {},
     "output_type": "display_data"
    }
   ],
   "source": [
    "seq_widths = [\n",
    "    x - y for x, y in zip(seq_checkpoints[1:], seq_checkpoints[:-1])\n",
    "]\n",
    "# plt.figure(figsize=(12,8))\n",
    "fig, axes = plt.subplots(1, 2)\n",
    "# plt.title(\"Functions time usage\")\n",
    "for ax in axes:\n",
    "    ax.barh(range(len(seq_checkpoints[1:])), seq_widths, left=seq_checkpoints[:-1], align='edge')\n",
    "    ax.set_ylim((0, None))\n",
    "    ax.set_xlabel(\"Time [s]\")\n",
    "#     plt.xlabel(\"Time [s]\")\n",
    "    ax.grid()\n",
    "axes[0].set_ylabel(\"Function calls\")\n",
    "axes[1].set_ylim((0,10))\n",
    "axes[1].set_xlim((0,4))\n",
    "# plt.plot(seq_checkpoints[::2], 'o-')"
   ]
  },
  {
   "cell_type": "markdown",
   "metadata": {},
   "source": [
    "On the y axis are consecutive function calls (i.e. *tasks*, be them I/O or CPU).\n",
    "The x axis displays cumulative time.\n",
    "The plot on the right is just a magnification of the left."
   ]
  },
  {
   "cell_type": "markdown",
   "metadata": {},
   "source": [
    "### CPU vs I/O time usage analysis\n",
    "\n",
    "We can group our processing steps into \"pure computation\" and read/write tasks.\n",
    "It will soon become apparent why this is interesting:"
   ]
  },
  {
   "cell_type": "code",
   "execution_count": 12,
   "metadata": {},
   "outputs": [
    {
     "data": {
      "image/png": "[encoded data removed]",
      "text/plain": [
       "<matplotlib.figure.Figure at 0x7fddffbc3be0>"
      ]
     },
     "metadata": {},
     "output_type": "display_data"
    }
   ],
   "source": [
    "io_in = sum(seq_widths[::3])\n",
    "cpu = sum(seq_widths[1::3])\n",
    "io_out = sum(seq_widths[2::3])\n",
    "\n",
    "ax = plt.barh(range(3), [io_out, cpu, io_in])\n",
    "plt.title(\"Global time usage\")\n",
    "plt.xlabel(\"Time [s]\")\n",
    "# plt.ylabel(\"Function calls\")\n",
    "plt.yticks(range(3), (\"I/O OUT\", \"CPU\", \"I/O IN\"))\n",
    "plt.grid()"
   ]
  },
  {
   "cell_type": "markdown",
   "metadata": {},
   "source": [
    "About 10 seconds are spent in I/O operations and 7 seconds in CPU operations."
   ]
  },
  {
   "cell_type": "markdown",
   "metadata": {},
   "source": [
    "## Concurrency in Python\n",
    "\n",
    "Using the `concurrent.futures` module, it is quite straightforward to leverage concurrency.\n",
    "The module provides an easy-to-use API for using multiple threads or processes in Python.\n",
    "\n",
    "The main construct of the module is the *Executor* class, which interfaces to a pool\n",
    "of workers (threads or processes).\n",
    "The executor can receive work (our functions), distribute it to the pool, and give back results.\n",
    "\n",
    "The number of workers is automatically determined, but can be specified\n",
    "using the `max_workers` keyword argument.\n",
    "\n",
    "An *Executor* implements two main methods:\n",
    "\n",
    "- **map()**: equivalent to the standard *map()* function, only allowing asynchronous calls.\n",
    "  Returns an iterator object.\n",
    "- **submit()**: This methods accepts a callable (e.g. a function) and its arguments, and schedules it\n",
    "  to be executed by the pool of workers.\n",
    "  The method returns a *Future* object, representing the execution of the callable.\n",
    "  This object has a *result()* method, that returns the value returned by the call,\n",
    "  once the execution is done.\n",
    "\n",
    "\n",
    "See the full documentation [here](https://docs.python.org/3/library/concurrent.futures.html).\n",
    "\n",
    "<!--The easiest entity to use are threads, so let's try that first.-->"
   ]
  },
  {
   "cell_type": "markdown",
   "metadata": {},
   "source": [
    "The simplest way to leverage `concurrent.futures` is arguably using the *map* method.\n",
    "This, however, requires a slight rewriting of the code.\n",
    "In practice, whenever there's a loop over an iterable, *map* should be used instead.\n",
    "\n",
    "Here's the rewritten sequential version:"
   ]
  },
  {
   "cell_type": "code",
   "execution_count": 13,
   "metadata": {},
   "outputs": [
    {
     "name": "stdout",
     "output_type": "stream",
     "text": [
      "[48864, 34398, 32033, 51661, 38882, 38056, 37462, 35170, 51522, 34156, 49885, 51637, 46287, 33730, 47523, 42906]\n",
      "17.968209505081177 secs\n"
     ]
    }
   ],
   "source": [
    "start = time.time()\n",
    "\n",
    "data_in = list(map(fetch_datum, input_numbers)) # e.g read data from disk/API\n",
    "\n",
    "processed_data = list(map(digits_fibonacci, data_in))\n",
    "\n",
    "data_out = list(map(store_output, processed_data)) # e.g. write data to disk/API\n",
    "print(data_out)\n",
    "\n",
    "print(\"{} secs\".format(time.time() - start))"
   ]
  },
  {
   "cell_type": "markdown",
   "metadata": {},
   "source": [
    "There might be a slight speedup, due to *map* being more efficient than *for* loops."
   ]
  },
  {
   "cell_type": "markdown",
   "metadata": {},
   "source": [
    "### Multithreading\n",
    "\n",
    "Once the code is rewritten this way (this is a more [functional](https://en.wikipedia.org/wiki/Functional_programming) style BTW)\n",
    "it's straightforward to write the concurrent version.  \n",
    "The only difference are:\n",
    "1. in the use of the executor within a context manager\n",
    "2. the *map* executor method instead of the built-in python *map*."
   ]
  },
  {
   "cell_type": "code",
   "execution_count": 14,
   "metadata": {},
   "outputs": [
    {
     "name": "stdout",
     "output_type": "stream",
     "text": [
      "0.39707207679748535\n",
      "12.314069986343384\n",
      "[48864, 34398, 32033, 51661, 38882, 38056, 37462, 35170, 51522, 34156, 49885, 51637, 46287, 33730, 47523, 42906]\n",
      "12.714184522628784 secs\n"
     ]
    }
   ],
   "source": [
    "start = time.time()\n",
    "tp_chkpts = [] # Checkpoints list\n",
    "tp_chkpts.append(time.time() - start)  # Checkpoint\n",
    "\n",
    "with ThreadPoolExecutor() as tp:\n",
    "    data_in = list(tp.map(fetch_datum, input_numbers)) # e.g read data from disk/API\n",
    "    check = time.time() - start\n",
    "    print(check)\n",
    "    tp_chkpts.append(check)  # Checkpoint\n",
    "    \n",
    "    processed_data = list(tp.map(digits_fibonacci, data_in))\n",
    "    check = time.time() - start\n",
    "    print(check)\n",
    "    tp_chkpts.append(check)  # Checkpoint\n",
    "    \n",
    "    data_out = tp.map(store_output, processed_data) # e.g. write data to disk/API\n",
    "print(list(data_out))\n",
    "tp_chkpts.append(time.time() - start)  # Checkpoint\n",
    "\n",
    "print(\"{} secs\".format(time.time() - start))  # Total time"
   ]
  },
  {
   "cell_type": "code",
   "execution_count": 15,
   "metadata": {},
   "outputs": [
    {
     "data": {
      "image/png": "[encoded data removed]",
      "text/plain": [
       "<matplotlib.figure.Figure at 0x7fddff9f95c0>"
      ]
     },
     "metadata": {},
     "output_type": "display_data"
    }
   ],
   "source": [
    "tp_widths = [\n",
    "    x - y for x, y in zip(tp_chkpts[1:], tp_chkpts[:-1])\n",
    "]\n",
    "# plt.figure(figsize=(12,8))\n",
    "plt.barh(range(len(tp_chkpts[1:])), tp_widths, left=tp_chkpts[:-1])\n",
    "# plt.plot(tp_chkpts[::2], 'o-')\n",
    "plt.xlabel(\"Time [s]\")\n",
    "# plt.ylabel(\"Function calls\")\n",
    "\n",
    "# plt.barh(range(3), [io_out, cpu, io_in])\n",
    "plt.title(\"Global time usage\")\n",
    "plt.xlabel(\"Time [s]\")\n",
    "# plt.ylabel(\"Function calls\")\n",
    "plt.yticks(range(3), (\"I/O OUT\", \"CPU\", \"I/O IN\"))\n",
    "plt.grid()"
   ]
  },
  {
   "cell_type": "markdown",
   "metadata": {},
   "source": [
    "There may or may not be some sort of improvement in this case.\n",
    "One can see massive improvement with the I/O operations, but\n",
    "the same cannot be said for the CPU-bound work.\n",
    "\n",
    "Any idea why?"
   ]
  },
  {
   "cell_type": "markdown",
   "metadata": {},
   "source": [
    "### Multiprocessing\n",
    "\n",
    "To switch from threads to processes is just a matter of replacing\n",
    "`ThreadPoolExecutor` with `ProcessPoolExecutor`."
   ]
  },
  {
   "cell_type": "code",
   "execution_count": 16,
   "metadata": {},
   "outputs": [
    {
     "name": "stdout",
     "output_type": "stream",
     "text": [
      "[48864, 34398, 32033, 51661, 38882, 38056, 37462, 35170, 51522, 34156, 49885, 51637, 46287, 33730, 47523, 42906]\n",
      "5.026548862457275 secs\n"
     ]
    }
   ],
   "source": [
    "start = time.time()\n",
    "pp_chkpts = []\n",
    "pp_chkpts.append(time.time() - start)\n",
    "with ProcessPoolExecutor() as pp:\n",
    "    data_in = list(pp.map(fetch_datum, input_numbers)) # e.g read data from disk/API\n",
    "    pp_chkpts.append(time.time() - start)\n",
    "    processed_data = list(pp.map(digits_fibonacci, data_in))\n",
    "    pp_chkpts.append(time.time() - start)\n",
    "    data_out = pp.map(store_output, processed_data) # e.g. write data to disk/API\n",
    "    print(list(data_out))\n",
    "    pp_chkpts.append(time.time() - start)\n",
    "print(\"{} secs\".format(time.time() - start))"
   ]
  },
  {
   "cell_type": "code",
   "execution_count": 17,
   "metadata": {},
   "outputs": [
    {
     "data": {
      "image/png": "[encoded data removed]",
      "text/plain": [
       "<matplotlib.figure.Figure at 0x7fddff94f278>"
      ]
     },
     "metadata": {},
     "output_type": "display_data"
    }
   ],
   "source": [
    "pp_widths = [\n",
    "    x - y for x, y in zip(pp_chkpts[1:], pp_chkpts[:-1])\n",
    "]\n",
    "# plt.figure(figsize=(12,8))\n",
    "plt.barh(range(len(pp_chkpts[1:])), pp_widths, left=pp_chkpts[:-1])\n",
    "# plt.plot(pp_chkpts[::2], 'o-')\n",
    "# plt.xlabel(\"Time [s]\")\n",
    "# plt.ylabel(\"Function calls\")\n",
    "# plt.grid()\n",
    "plt.title(\"Global time usage\")\n",
    "plt.xlabel(\"Time [s]\")\n",
    "# plt.ylabel(\"Function calls\")\n",
    "plt.yticks(range(3), (\"I/O OUT\", \"CPU\", \"I/O IN\"))\n",
    "plt.grid()"
   ]
  },
  {
   "cell_type": "markdown",
   "metadata": {},
   "source": [
    "Now we are talking.\n",
    "Multiprocessing gives a 4x speedup (on a 4-core machine)."
   ]
  },
  {
   "cell_type": "markdown",
   "metadata": {},
   "source": [
    "### Mixin' it up\n",
    "\n",
    "It is possible to use both thread and process pools\n",
    "in the same program and get the best of both worlds:"
   ]
  },
  {
   "cell_type": "code",
   "execution_count": 18,
   "metadata": {},
   "outputs": [
    {
     "name": "stdout",
     "output_type": "stream",
     "text": [
      "[48864, 34398, 32033, 51661, 38882, 38056, 37462, 35170, 51522, 34156, 49885, 51637, 46287, 33730, 47523, 42906]\n",
      "CPU times: user 56 ms, sys: 88 ms, total: 144 ms\n",
      "Wall time: 3.26 s\n"
     ]
    }
   ],
   "source": [
    "%%time\n",
    "start = time.time()\n",
    "pt_chkpts = []\n",
    "pt_chkpts.append(time.time() - start)\n",
    "with ProcessPoolExecutor() as pp:\n",
    "    with ThreadPoolExecutor() as tp:\n",
    "        data_in = list(tp.map(fetch_datum, input_numbers))\n",
    "        pt_chkpts.append(time.time() - start)\n",
    "        processed_data = list(pp.map(digits_fibonacci, data_in))\n",
    "        pt_chkpts.append(time.time() - start)\n",
    "        data_out = list(tp.map(store_output, processed_data))\n",
    "        print(data_out)\n",
    "        pt_chkpts.append(time.time() - start)\n",
    "#         print(list(tp.map(fake_io, processed_data)))"
   ]
  },
  {
   "cell_type": "code",
   "execution_count": 19,
   "metadata": {},
   "outputs": [
    {
     "data": {
      "image/png": "[encoded data removed]",
      "text/plain": [
       "<matplotlib.figure.Figure at 0x7fddff88cd68>"
      ]
     },
     "metadata": {},
     "output_type": "display_data"
    }
   ],
   "source": [
    "pt_widths = [\n",
    "    x - y for x, y in zip(pt_chkpts[1:], pt_chkpts[:-1])\n",
    "]\n",
    "# plt.figure(figsize=(12,8))\n",
    "plt.barh(range(len(pt_chkpts[1:])), pt_widths, left=pt_chkpts[:-1])\n",
    "# plt.plot(pt_chkpts[::2], 'o-')\n",
    "plt.xlabel(\"Time [s]\")\n",
    "plt.ylabel(\"Function calls\")\n",
    "plt.grid()"
   ]
  },
  {
   "cell_type": "markdown",
   "metadata": {},
   "source": [
    "Using both threads and processes yields a 6x improvement\n",
    "over purely sequential code.\n",
    "This can be achieved by assigning I/O bound work to the pool of threads\n",
    "and CPU-bound work to the pool of processes."
   ]
  },
  {
   "cell_type": "markdown",
   "metadata": {},
   "source": [
    "### Using futures\n",
    "\n",
    "Submitting work to the pool and using its scheduling capability\n",
    "with the *Future* object can lead to very efficient code.\n",
    "Here's an example using only threads."
   ]
  },
  {
   "cell_type": "code",
   "execution_count": 20,
   "metadata": {},
   "outputs": [
    {
     "name": "stdout",
     "output_type": "stream",
     "text": [
      "[46287, 38882, 51522, 33730, 47523, 51661, 34156, 34398, 37462, 51637, 48864, 49885, 42906, 38056, 35170, 32033]\n",
      "CPU times: user 7.5 s, sys: 56 ms, total: 7.56 s\n",
      "Wall time: 8.25 s\n"
     ]
    }
   ],
   "source": [
    "%%time\n",
    "start = time.time()\n",
    "tt_chkpts = []\n",
    "tt_chkpts.append(time.time() - start)\n",
    "with ThreadPoolExecutor() as tp:\n",
    "        data_in = [\n",
    "            tp.submit(fetch_datum, i) for i in input_numbers\n",
    "        ]\n",
    "        # This slows down things but it's necessary for recording time\n",
    "        wait(data_in)\n",
    "        tt_chkpts.append(time.time() - start)\n",
    "        # This part is purely sequential\n",
    "        processed_data = [\n",
    "            digits_fibonacci(f.result()) for f in as_completed(data_in)\n",
    "        ]\n",
    "        tt_chkpts.append(time.time() - start)\n",
    "        data_out = [\n",
    "            tp.submit(store_output, d) for d in processed_data\n",
    "        ]\n",
    "        print([\n",
    "            f.result() for f in as_completed(data_out)\n",
    "        ])\n",
    "        tt_chkpts.append(time.time() - start)\n",
    "#         print(list(tp.map(fake_io, processed_data)))"
   ]
  },
  {
   "cell_type": "code",
   "execution_count": 21,
   "metadata": {},
   "outputs": [
    {
     "data": {
      "image/png": "[encoded data removed]",
      "text/plain": [
       "<matplotlib.figure.Figure at 0x7fddff9e1630>"
      ]
     },
     "metadata": {},
     "output_type": "display_data"
    }
   ],
   "source": [
    "tt_widths = [\n",
    "    x - y for x, y in zip(tt_chkpts[1:], tt_chkpts[:-1])\n",
    "]\n",
    "# plt.figure(figsize=(12,8))\n",
    "plt.barh(range(len(tt_chkpts[1:])), tt_widths, left=tt_chkpts[:-1])\n",
    "# plt.plot(tt_chkpts[::2], 'o-')\n",
    "plt.xlabel(\"Time [s]\")\n",
    "plt.ylabel(\"Function calls\")\n",
    "plt.grid()"
   ]
  },
  {
   "cell_type": "markdown",
   "metadata": {},
   "source": [
    "In this case it's apparent how the I/O tasks are extremely optimized by\n",
    "the use of a pool of threads.\n",
    "The CPU-bound work is running sequentially."
   ]
  },
  {
   "cell_type": "markdown",
   "metadata": {},
   "source": [
    "### The full package (threads, processes, futures)\n",
    "\n",
    "Fully asynchronous execution is achieved when threads\n",
    "and processes are used in combination with futures."
   ]
  },
  {
   "cell_type": "code",
   "execution_count": 22,
   "metadata": {},
   "outputs": [
    {
     "name": "stdout",
     "output_type": "stream",
     "text": [
      "[47523, 42906, 32033, 34156, 35170, 37462, 38056, 48864, 33730, 46287, 34398, 51637, 49885, 38882, 51661, 51522]\n",
      "CPU times: user 44 ms, sys: 84 ms, total: 128 ms\n",
      "Wall time: 2.82 s\n"
     ]
    }
   ],
   "source": [
    "%%time\n",
    "start = time.time()\n",
    "with ProcessPoolExecutor() as pp:\n",
    "    with ThreadPoolExecutor() as tp:\n",
    "        data_in = [\n",
    "            tp.submit(fetch_datum, i) for i in input_numbers\n",
    "        ]\n",
    "\n",
    "        processed_data = [\n",
    "            pp.submit(digits_fibonacci, f.result()) for f in as_completed(data_in)\n",
    "        ]\n",
    "\n",
    "        data_out = [\n",
    "            tp.submit(store_output, d.result()) for d in processed_data\n",
    "        ]\n",
    "        \n",
    "        print([\n",
    "            f.result() for f in as_completed(data_out)\n",
    "        ])\n",
    "        \n",
    "        full_async = time.time() - start"
   ]
  },
  {
   "cell_type": "markdown",
   "metadata": {},
   "source": [
    "This comes at a little cost though: there is no easy way to monitor\n",
    "the duration of the different steps.\n",
    "One can only measure the total time.\n",
    "\n",
    "The benefit of this approach is also limited, and depends on the\n",
    "nature of the problem at hand, while there is considerable\n",
    "added complexity in the structure of the code.\n",
    "For most basic applications, sticking to the *map* method may\n",
    "be a simpler (hence better) solution."
   ]
  },
  {
   "cell_type": "markdown",
   "metadata": {},
   "source": [
    "## Summary\n",
    "\n",
    "Let's summarize the performance of different configurations."
   ]
  },
  {
   "cell_type": "code",
   "execution_count": 26,
   "metadata": {},
   "outputs": [
    {
     "data": {
      "image/png": "[encoded data removed]",
      "text/plain": [
       "<matplotlib.figure.Figure at 0x7fde2480d278>"
      ]
     },
     "metadata": {},
     "output_type": "display_data"
    }
   ],
   "source": [
    "io_in, cpu, io_out = [], [], []\n",
    "options = {\n",
    "    \"Sequential\": seq_widths,\n",
    "    \"Processes\": pp_widths,\n",
    "    \"Procs+Threads\": pt_widths,\n",
    "    \"Threads\": tt_widths\n",
    "}\n",
    "\n",
    "# plt.figure(figsize=(14,4))\n",
    "for name, widths in options.items():\n",
    "    io_in.append(\n",
    "        sum(widths[::3])\n",
    "    )\n",
    "    cpu.append(\n",
    "        sum(widths[1::3])\n",
    "    )\n",
    "    io_out.append(\n",
    "        sum(widths[2::3])\n",
    "    )\n",
    "plt.bar(range(4), io_in, label=\"I/O IN\")\n",
    "plt.bar(range(4), cpu, bottom=io_in, label=\"CPU\")\n",
    "plt.bar(range(4), io_out, bottom=[a + b for a,b in zip(cpu, io_in)], label=\"I/O OUT\")\n",
    "plt.plot(range(-1, 6), 7*[full_async], label=\"TP+PP+Futures\", c='red')\n",
    "plt.xlim((-0.5, 3.5))\n",
    "plt.xticks(range(4), (\n",
    "    \"Sequential\",\n",
    "    \"Processes\",\n",
    "    \"Procs+Threads\",\n",
    "    \"Threads\",\n",
    "))\n",
    "plt.ylabel(\"Time [s]\")\n",
    "plt.title(\"Worker pools on a 4-core machine - 16 tasks\")\n",
    "plt.grid()\n",
    "plt.legend();\n",
    "plt.savefig(\"./images/summary.png\", dpi=200)"
   ]
  },
  {
   "cell_type": "markdown",
   "metadata": {},
   "source": [
    "It's apparent how the combination of both multiple processes and threads delivers the best performance.\n",
    "The pool of processes comes in second, while the pool of threads alone is third.\n",
    "\n",
    "It's worth noting how second and third place would exchange places depending on the nature of the program.\n",
    "In case of I/O-bound work, threads give usually the best performance,\n",
    "while processes work best for CPU-bound work."
   ]
  },
  {
   "cell_type": "markdown",
   "metadata": {},
   "source": [
    "# Scaling with number of tasks\n",
    "\n",
    "This is just a silly *divertissement* on how\n",
    "many threads/processes one can spawn at once.\n",
    "\n",
    "It's probably wrong on so many levels. :-D"
   ]
  },
  {
   "cell_type": "code",
   "execution_count": 24,
   "metadata": {},
   "outputs": [
    {
     "name": "stdout",
     "output_type": "stream",
     "text": [
      "CPU times: user 7.04 s, sys: 2.16 s, total: 9.2 s\n",
      "Wall time: 26.2 s\n"
     ]
    },
    {
     "data": {
      "image/png": "[encoded data removed]",
      "text/plain": [
       "<matplotlib.figure.Figure at 0x7fddffb30780>"
      ]
     },
     "metadata": {},
     "output_type": "display_data"
    }
   ],
   "source": [
    "%%time\n",
    "times = []\n",
    "th_startups = []\n",
    "task_numbers = [2**x for x in range(2, 13, 2)] \n",
    "workers_numbers = [5*2**x for x in range(6, 12)]\n",
    "for n_workers in workers_numbers:\n",
    "    startup_start = time.time()\n",
    "    with ThreadPoolExecutor(n_workers) as tp:\n",
    "        th_startups.append(time.time() - startup_start)\n",
    "        for n_tasks in task_numbers:\n",
    "            start = time.time()\n",
    "            list(tp.map(fetch_datum, range(n_tasks)))\n",
    "            times.append(time.time() - start)\n",
    "    plt.plot(task_numbers, times, '-o', label=n_workers)\n",
    "    times = []\n",
    "plt.grid()\n",
    "plt.legend(title=\"# of workers\")\n",
    "plt.title(\"Performance of pool of threads\\n(single task duration ~ .3 secs)\")\n",
    "plt.ylabel(\"Time [s] (lower is better)\")\n",
    "plt.xlabel(\"Number of I/O tasks\");\n",
    "plt.xscale('log')\n",
    "plt.yscale('log')\n",
    "plt.tight_layout()\n",
    "plt.savefig(\"images/threads.png\", dpi=150);"
   ]
  },
  {
   "cell_type": "code",
   "execution_count": 25,
   "metadata": {
    "scrolled": true
   },
   "outputs": [
    {
     "data": {
      "image/png": "[encoded data removed]",
      "text/plain": [
       "<matplotlib.figure.Figure at 0x7fdddc73d2b0>"
      ]
     },
     "metadata": {},
     "output_type": "display_data"
    }
   ],
   "source": [
    "plt.plot(workers_numbers, th_startups, 'o-')\n",
    "plt.title(\"Workers' pool (threads) overhead\")\n",
    "plt.xlabel(\"max_workers\")\n",
    "plt.ylabel(\"Pool startup time [s]\")\n",
    "plt.xscale('log')\n",
    "plt.grid();"
   ]
  },
  {
   "cell_type": "code",
   "execution_count": null,
   "metadata": {
    "collapsed": true
   },
   "outputs": [],
   "source": []
  }
 ],
 "metadata": {
  "kernelspec": {
   "display_name": "Python 3",
   "language": "python",
   "name": "python3"
  },
  "language_info": {
   "codemirror_mode": {
    "name": "ipython",
    "version": 3
   },
   "file_extension": ".py",
   "mimetype": "text/x-python",
   "name": "python",
   "nbconvert_exporter": "python",
   "pygments_lexer": "ipython3",
   "version": "3.6.2"
  }
 },
 "nbformat": 4,
 "nbformat_minor": 2
}
